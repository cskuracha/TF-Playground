{
 "cells": [
  {
   "cell_type": "markdown",
   "id": "32a62880-cf94-458b-9b91-f926d1ee3fe3",
   "metadata": {},
   "source": [
    "## **Variables**\n",
    "\n",
    "https://www.tensorflow.org/api_docs/python/tf/Variable\n",
    "\n",
    "```\n",
    "tf.Variable(\n",
    "    initial_value=None,\n",
    "    trainable=None,\n",
    "    validate_shape=True,\n",
    "    caching_device=None,\n",
    "    name=None,\n",
    "    variable_def=None,\n",
    "    dtype=None,\n",
    "    import_scope=None,\n",
    "    constraint=None,\n",
    "    synchronization=tf.VariableSynchronization.AUTO,\n",
    "    aggregation=tf.compat.v1.VariableAggregation.NONE,\n",
    "    shape=None,\n",
    "    experimental_enable_variable_lifting=True\n",
    ")\n",
    "\n",
    "```"
   ]
  },
  {
   "cell_type": "code",
   "execution_count": 1,
   "id": "b3b74cb7-0a80-4cc7-80a0-92b4b328186e",
   "metadata": {},
   "outputs": [
    {
     "name": "stderr",
     "output_type": "stream",
     "text": [
      "2024-02-09 11:30:40.181626: E external/local_xla/xla/stream_executor/cuda/cuda_dnn.cc:9261] Unable to register cuDNN factory: Attempting to register factory for plugin cuDNN when one has already been registered\n",
      "2024-02-09 11:30:40.181813: E external/local_xla/xla/stream_executor/cuda/cuda_fft.cc:607] Unable to register cuFFT factory: Attempting to register factory for plugin cuFFT when one has already been registered\n",
      "2024-02-09 11:30:40.239433: E external/local_xla/xla/stream_executor/cuda/cuda_blas.cc:1515] Unable to register cuBLAS factory: Attempting to register factory for plugin cuBLAS when one has already been registered\n",
      "2024-02-09 11:30:40.363096: I tensorflow/core/platform/cpu_feature_guard.cc:182] This TensorFlow binary is optimized to use available CPU instructions in performance-critical operations.\n",
      "To enable the following instructions: AVX2 FMA, in other operations, rebuild TensorFlow with the appropriate compiler flags.\n"
     ]
    }
   ],
   "source": [
    "import tensorflow as tf"
   ]
  },
  {
   "cell_type": "code",
   "execution_count": 2,
   "id": "fd0b5d39-3ca7-41f9-b81b-bafffd7af740",
   "metadata": {},
   "outputs": [
    {
     "name": "stderr",
     "output_type": "stream",
     "text": [
      "2024-02-09 11:30:44.873216: I external/local_xla/xla/stream_executor/cuda/cuda_executor.cc:887] could not open file to read NUMA node: /sys/bus/pci/devices/0000:01:00.0/numa_node\n",
      "Your kernel may have been built without NUMA support.\n",
      "2024-02-09 11:30:44.941084: I external/local_xla/xla/stream_executor/cuda/cuda_executor.cc:887] could not open file to read NUMA node: /sys/bus/pci/devices/0000:01:00.0/numa_node\n",
      "Your kernel may have been built without NUMA support.\n",
      "2024-02-09 11:30:44.941129: I external/local_xla/xla/stream_executor/cuda/cuda_executor.cc:887] could not open file to read NUMA node: /sys/bus/pci/devices/0000:01:00.0/numa_node\n",
      "Your kernel may have been built without NUMA support.\n",
      "2024-02-09 11:30:44.948469: I external/local_xla/xla/stream_executor/cuda/cuda_executor.cc:887] could not open file to read NUMA node: /sys/bus/pci/devices/0000:01:00.0/numa_node\n",
      "Your kernel may have been built without NUMA support.\n",
      "2024-02-09 11:30:44.948513: I external/local_xla/xla/stream_executor/cuda/cuda_executor.cc:887] could not open file to read NUMA node: /sys/bus/pci/devices/0000:01:00.0/numa_node\n",
      "Your kernel may have been built without NUMA support.\n",
      "2024-02-09 11:30:44.948531: I external/local_xla/xla/stream_executor/cuda/cuda_executor.cc:887] could not open file to read NUMA node: /sys/bus/pci/devices/0000:01:00.0/numa_node\n",
      "Your kernel may have been built without NUMA support.\n",
      "2024-02-09 11:30:45.355871: I external/local_xla/xla/stream_executor/cuda/cuda_executor.cc:887] could not open file to read NUMA node: /sys/bus/pci/devices/0000:01:00.0/numa_node\n",
      "Your kernel may have been built without NUMA support.\n",
      "2024-02-09 11:30:45.355918: I external/local_xla/xla/stream_executor/cuda/cuda_executor.cc:887] could not open file to read NUMA node: /sys/bus/pci/devices/0000:01:00.0/numa_node\n",
      "Your kernel may have been built without NUMA support.\n",
      "2024-02-09 11:30:45.355926: I tensorflow/core/common_runtime/gpu/gpu_device.cc:2022] Could not identify NUMA node of platform GPU id 0, defaulting to 0.  Your kernel may not have been built with NUMA support.\n",
      "2024-02-09 11:30:45.355953: I external/local_xla/xla/stream_executor/cuda/cuda_executor.cc:887] could not open file to read NUMA node: /sys/bus/pci/devices/0000:01:00.0/numa_node\n",
      "Your kernel may have been built without NUMA support.\n",
      "2024-02-09 11:30:45.355970: I tensorflow/core/common_runtime/gpu/gpu_device.cc:1929] Created device /job:localhost/replica:0/task:0/device:GPU:0 with 4071 MB memory:  -> device: 0, name: NVIDIA GeForce RTX 2060 with Max-Q Design, pci bus id: 0000:01:00.0, compute capability: 7.5\n"
     ]
    },
    {
     "data": {
      "text/plain": [
       "<tf.Variable 'UnreadVariable' shape=() dtype=float32, numpy=2.5>"
      ]
     },
     "execution_count": 2,
     "metadata": {},
     "output_type": "execute_result"
    }
   ],
   "source": [
    "v = tf.Variable(1.)\n",
    "v.assign(2.)\n",
    "\n",
    "v.assign_add(0.5)\n"
   ]
  },
  {
   "cell_type": "code",
   "execution_count": 3,
   "id": "dc9de507-7840-4763-947b-71a817f7ba56",
   "metadata": {},
   "outputs": [
    {
     "data": {
      "text/plain": [
       "<tf.Variable 'Variable:0' shape=(2,) dtype=int32, numpy=array([1, 2], dtype=int32)>"
      ]
     },
     "execution_count": 3,
     "metadata": {},
     "output_type": "execute_result"
    }
   ],
   "source": [
    "tensor_const = tf.constant([1,2])\n",
    "tensor_var = tf.Variable(tensor_const)\n",
    "tensor_var"
   ]
  },
  {
   "cell_type": "markdown",
   "id": "91309ede-f070-49c0-8857-78b4e354a5cb",
   "metadata": {},
   "source": [
    "#### assign_sub & assign_add\n",
    "https://www.tensorflow.org/api_docs/python/tf/Variable#assign_sub\n",
    "\n",
    "https://www.tensorflow.org/api_docs/python/tf/Variable#assign_add\n",
    "```\n",
    "assign_sub(\n",
    "    delta, use_locking=False, name=None, read_value=True\n",
    ")\n",
    "\n",
    "```\n",
    "\n",
    "```\n",
    "assign_add(\n",
    "    delta, use_locking=False, name=None, read_value=True\n",
    ")\n",
    "\n",
    "```\n",
    "\n",
    "**These operations will update both tensor_var and tensor_var_add & tensor_var_sub**"
   ]
  },
  {
   "cell_type": "code",
   "execution_count": 4,
   "id": "b13513f4-5bb0-419b-a38d-05bdc9532662",
   "metadata": {},
   "outputs": [],
   "source": [
    "tensor_var_sub = tensor_var.assign_sub([2,2])"
   ]
  },
  {
   "cell_type": "code",
   "execution_count": 5,
   "id": "33ca7562-ebd7-4837-a89b-b10faf835dce",
   "metadata": {},
   "outputs": [
    {
     "data": {
      "text/plain": [
       "<tf.Variable 'UnreadVariable' shape=(2,) dtype=int32, numpy=array([-1,  0], dtype=int32)>"
      ]
     },
     "execution_count": 5,
     "metadata": {},
     "output_type": "execute_result"
    }
   ],
   "source": [
    "tensor_var_sub"
   ]
  },
  {
   "cell_type": "code",
   "execution_count": 6,
   "id": "1210b6f6-00a4-4900-87ff-26984bf6a46d",
   "metadata": {},
   "outputs": [
    {
     "data": {
      "text/plain": [
       "<tf.Variable 'Variable:0' shape=(2,) dtype=int32, numpy=array([-1,  0], dtype=int32)>"
      ]
     },
     "execution_count": 6,
     "metadata": {},
     "output_type": "execute_result"
    }
   ],
   "source": [
    "tensor_var"
   ]
  },
  {
   "cell_type": "code",
   "execution_count": 7,
   "id": "fabe5605-da30-4a46-9690-7ec4f474dbe8",
   "metadata": {},
   "outputs": [
    {
     "data": {
      "text/plain": [
       "(<tf.Variable 'UnreadVariable' shape=(2,) dtype=int32, numpy=array([0, 0], dtype=int32)>,\n",
       " <tf.Variable 'Variable:0' shape=(2,) dtype=int32, numpy=array([0, 0], dtype=int32)>)"
      ]
     },
     "execution_count": 7,
     "metadata": {},
     "output_type": "execute_result"
    }
   ],
   "source": [
    "tensor_var_add = tensor_var.assign_add([1, 0])\n",
    "tensor_var_add, tensor_var"
   ]
  },
  {
   "cell_type": "code",
   "execution_count": 8,
   "id": "1c6acae6-992f-42aa-8f81-f7a161a01398",
   "metadata": {},
   "outputs": [
    {
     "data": {
      "text/plain": [
       "'/job:localhost/replica:0/task:0/device:CPU:0'"
      ]
     },
     "execution_count": 8,
     "metadata": {},
     "output_type": "execute_result"
    }
   ],
   "source": [
    "tensor_var.device"
   ]
  },
  {
   "cell_type": "markdown",
   "id": "9f8f0239-e6e4-41fa-8be5-6e4b193a49a3",
   "metadata": {},
   "source": [
    "### **To select CPU or GPU:**\n"
   ]
  },
  {
   "cell_type": "code",
   "execution_count": 10,
   "id": "cdc16b10-671a-407f-8797-9ebc3ae7675a",
   "metadata": {},
   "outputs": [
    {
     "name": "stdout",
     "output_type": "stream",
     "text": [
      "/job:localhost/replica:0/task:0/device:GPU:0\n",
      "/job:localhost/replica:0/task:0/device:GPU:0\n"
     ]
    }
   ],
   "source": [
    "with tf.device('GPU:0'):\n",
    "    x_var = tf.Variable(0.2)\n",
    "    x_const = tf.constant(0.2)\n",
    "\n",
    "print(x_var.device)\n",
    "print(x_const.device)"
   ]
  },
  {
   "cell_type": "code",
   "execution_count": 11,
   "id": "28c269b8-f476-4fa4-b7ba-e9815e8a9df7",
   "metadata": {},
   "outputs": [
    {
     "name": "stdout",
     "output_type": "stream",
     "text": [
      "/job:localhost/replica:0/task:0/device:CPU:0\n",
      "/job:localhost/replica:0/task:0/device:CPU:0\n"
     ]
    }
   ],
   "source": [
    "with tf.device('CPU:0'):\n",
    "    x_var = tf.Variable(0.2)\n",
    "    x_const = tf.constant(0.2)\n",
    "\n",
    "print(x_var.device)\n",
    "print(x_const.device)"
   ]
  },
  {
   "cell_type": "code",
   "execution_count": null,
   "id": "fbc69603-e7b1-4168-896f-612c1bdb9b08",
   "metadata": {},
   "outputs": [],
   "source": []
  }
 ],
 "metadata": {
  "kernelspec": {
   "display_name": "Python 3 (ipykernel)",
   "language": "python",
   "name": "python3"
  },
  "language_info": {
   "codemirror_mode": {
    "name": "ipython",
    "version": 3
   },
   "file_extension": ".py",
   "mimetype": "text/x-python",
   "name": "python",
   "nbconvert_exporter": "python",
   "pygments_lexer": "ipython3",
   "version": "3.11.0rc1"
  }
 },
 "nbformat": 4,
 "nbformat_minor": 5
}
