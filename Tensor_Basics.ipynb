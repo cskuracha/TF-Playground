{
 "cells": [
  {
   "cell_type": "markdown",
   "id": "b4b39bfb-6b91-4b80-86a5-d767c64ac7b2",
   "metadata": {},
   "source": [
    "## Tensor Basics"
   ]
  },
  {
   "cell_type": "markdown",
   "id": "36b8b588-1240-4fcd-8e5f-0c69755bd64e",
   "metadata": {},
   "source": [
    "#### Importing Libraries"
   ]
  },
  {
   "cell_type": "code",
   "execution_count": 1,
   "id": "06481ad9-5d62-48bf-842a-4f4dfa5bd99b",
   "metadata": {},
   "outputs": [
    {
     "name": "stderr",
     "output_type": "stream",
     "text": [
      "2024-01-27 11:40:00.007516: E external/local_xla/xla/stream_executor/cuda/cuda_dnn.cc:9261] Unable to register cuDNN factory: Attempting to register factory for plugin cuDNN when one has already been registered\n",
      "2024-01-27 11:40:00.007618: E external/local_xla/xla/stream_executor/cuda/cuda_fft.cc:607] Unable to register cuFFT factory: Attempting to register factory for plugin cuFFT when one has already been registered\n",
      "2024-01-27 11:40:00.064629: E external/local_xla/xla/stream_executor/cuda/cuda_blas.cc:1515] Unable to register cuBLAS factory: Attempting to register factory for plugin cuBLAS when one has already been registered\n",
      "2024-01-27 11:40:00.194122: I tensorflow/core/platform/cpu_feature_guard.cc:182] This TensorFlow binary is optimized to use available CPU instructions in performance-critical operations.\n",
      "To enable the following instructions: AVX2 FMA, in other operations, rebuild TensorFlow with the appropriate compiler flags.\n"
     ]
    }
   ],
   "source": [
    "import tensorflow as tf\n",
    "import pandas as pd\n",
    "import numpy as np"
   ]
  },
  {
   "cell_type": "markdown",
   "id": "f0762abf-4112-4624-adf8-9abe47ee2290",
   "metadata": {},
   "source": [
    "### Initializing Tensors"
   ]
  },
  {
   "cell_type": "markdown",
   "id": "dbd1109b-7e59-464e-a538-669202f8c06a",
   "metadata": {},
   "source": [
    "#### Zero Dimensional Tensor"
   ]
  },
  {
   "cell_type": "code",
   "execution_count": 3,
   "id": "298dbc92-275b-4948-87a2-99f5477e426c",
   "metadata": {},
   "outputs": [
    {
     "name": "stderr",
     "output_type": "stream",
     "text": [
      "2024-01-27 11:42:00.485405: I external/local_xla/xla/stream_executor/cuda/cuda_executor.cc:887] could not open file to read NUMA node: /sys/bus/pci/devices/0000:01:00.0/numa_node\n",
      "Your kernel may have been built without NUMA support.\n",
      "2024-01-27 11:42:00.548696: I external/local_xla/xla/stream_executor/cuda/cuda_executor.cc:887] could not open file to read NUMA node: /sys/bus/pci/devices/0000:01:00.0/numa_node\n",
      "Your kernel may have been built without NUMA support.\n",
      "2024-01-27 11:42:00.548763: I external/local_xla/xla/stream_executor/cuda/cuda_executor.cc:887] could not open file to read NUMA node: /sys/bus/pci/devices/0000:01:00.0/numa_node\n",
      "Your kernel may have been built without NUMA support.\n",
      "2024-01-27 11:42:00.552848: I external/local_xla/xla/stream_executor/cuda/cuda_executor.cc:887] could not open file to read NUMA node: /sys/bus/pci/devices/0000:01:00.0/numa_node\n",
      "Your kernel may have been built without NUMA support.\n",
      "2024-01-27 11:42:00.552891: I external/local_xla/xla/stream_executor/cuda/cuda_executor.cc:887] could not open file to read NUMA node: /sys/bus/pci/devices/0000:01:00.0/numa_node\n",
      "Your kernel may have been built without NUMA support.\n",
      "2024-01-27 11:42:00.552909: I external/local_xla/xla/stream_executor/cuda/cuda_executor.cc:887] could not open file to read NUMA node: /sys/bus/pci/devices/0000:01:00.0/numa_node\n",
      "Your kernel may have been built without NUMA support.\n",
      "2024-01-27 11:42:00.925150: I external/local_xla/xla/stream_executor/cuda/cuda_executor.cc:887] could not open file to read NUMA node: /sys/bus/pci/devices/0000:01:00.0/numa_node\n",
      "Your kernel may have been built without NUMA support.\n",
      "2024-01-27 11:42:00.925275: I external/local_xla/xla/stream_executor/cuda/cuda_executor.cc:887] could not open file to read NUMA node: /sys/bus/pci/devices/0000:01:00.0/numa_node\n",
      "Your kernel may have been built without NUMA support.\n",
      "2024-01-27 11:42:00.925286: I tensorflow/core/common_runtime/gpu/gpu_device.cc:2022] Could not identify NUMA node of platform GPU id 0, defaulting to 0.  Your kernel may not have been built with NUMA support.\n",
      "2024-01-27 11:42:00.925361: I external/local_xla/xla/stream_executor/cuda/cuda_executor.cc:887] could not open file to read NUMA node: /sys/bus/pci/devices/0000:01:00.0/numa_node\n",
      "Your kernel may have been built without NUMA support.\n",
      "2024-01-27 11:42:00.925403: I tensorflow/core/common_runtime/gpu/gpu_device.cc:1929] Created device /job:localhost/replica:0/task:0/device:GPU:0 with 4071 MB memory:  -> device: 0, name: NVIDIA GeForce RTX 2060 with Max-Q Design, pci bus id: 0000:01:00.0, compute capability: 7.5\n"
     ]
    },
    {
     "data": {
      "text/plain": [
       "<tf.Tensor: shape=(), dtype=float32, numpy=23.0>"
      ]
     },
     "execution_count": 3,
     "metadata": {},
     "output_type": "execute_result"
    }
   ],
   "source": [
    "zero_dim_tensor = tf.constant(23, dtype = tf.float32)\n",
    "zero_dim_tensor"
   ]
  },
  {
   "cell_type": "markdown",
   "id": "b938ae62-fd99-4e99-8bb1-9d86db4d484c",
   "metadata": {},
   "source": [
    "#### One Dimensional Tensor"
   ]
  },
  {
   "cell_type": "code",
   "execution_count": 4,
   "id": "75872946-db45-42d0-8ca9-3315560f8b6b",
   "metadata": {},
   "outputs": [
    {
     "data": {
      "text/plain": [
       "<tf.Tensor: shape=(4,), dtype=float32, numpy=array([1., 2., 3., 5.], dtype=float32)>"
      ]
     },
     "execution_count": 4,
     "metadata": {},
     "output_type": "execute_result"
    }
   ],
   "source": [
    "one_dim_tensor = tf.constant([1,2,3,5], dtype = tf.float32)\n",
    "one_dim_tensor"
   ]
  },
  {
   "cell_type": "markdown",
   "id": "ac497832-ab2c-410b-9585-9b5082d7b64c",
   "metadata": {},
   "source": [
    "#### Two Dimensional Tensor"
   ]
  },
  {
   "cell_type": "code",
   "execution_count": 5,
   "id": "de145545-ac92-49d9-a50f-f12a15d9104e",
   "metadata": {},
   "outputs": [
    {
     "data": {
      "text/plain": [
       "<tf.Tensor: shape=(4, 4), dtype=int32, numpy=\n",
       "array([[0, 1, 2, 3],\n",
       "       [1, 2, 3, 4],\n",
       "       [1, 3, 5, 7],\n",
       "       [2, 4, 6, 8]], dtype=int32)>"
      ]
     },
     "execution_count": 5,
     "metadata": {},
     "output_type": "execute_result"
    }
   ],
   "source": [
    "two_dim_tensor = tf.constant([\n",
    "    [0,1,2,3],\n",
    "    [1,2,3,4],\n",
    "    [1,3,5,7],\n",
    "    [2,4,6,8]\n",
    "])\n",
    "two_dim_tensor"
   ]
  },
  {
   "cell_type": "markdown",
   "id": "fad63ae7-528a-4617-94bc-749fd5ca48be",
   "metadata": {},
   "source": [
    "#### Three Dimensional Tensor"
   ]
  },
  {
   "cell_type": "code",
   "execution_count": 10,
   "id": "e20be464-0512-40bd-81dd-e61f6a89eadc",
   "metadata": {},
   "outputs": [
    {
     "data": {
      "text/plain": [
       "<tf.Tensor: shape=(2, 4, 4), dtype=float64, numpy=\n",
       "array([[[ 0.,  1.,  2.,  3.],\n",
       "        [ 1.,  2.,  3.,  4.],\n",
       "        [ 1.,  3.,  5.,  7.],\n",
       "        [ 2.,  4.,  6.,  8.]],\n",
       "\n",
       "       [[ 0., -1., -2., -3.],\n",
       "        [-1., -2., -3., -4.],\n",
       "        [-1., -3., -5., -7.],\n",
       "        [-2., -4., -6., -8.]]])>"
      ]
     },
     "execution_count": 10,
     "metadata": {},
     "output_type": "execute_result"
    }
   ],
   "source": [
    "three_dim_tensor = tf.constant([\n",
    "    [\n",
    "     [0,1,2,3],\n",
    "        [1,2,3,4],\n",
    "        [1,3,5,7],\n",
    "        [2,4,6,8]\n",
    "    ],\n",
    "    [\n",
    "        [0,-1,-2,-3],\n",
    "        [-1,-2,-3,-4],\n",
    "        [-1,-3,-5,-7],\n",
    "        [-2,-4,-6, -8]\n",
    "    ]\n",
    "], dtype = tf.float64)\n",
    "three_dim_tensor"
   ]
  },
  {
   "cell_type": "markdown",
   "id": "2da044ad-47f9-489c-a2f3-cff816ec0ef4",
   "metadata": {},
   "source": [
    "#### Four Dimensional Tensor"
   ]
  },
  {
   "cell_type": "code",
   "execution_count": 13,
   "id": "dc6f2e98-dea4-4ddf-b6a2-a6ec15c10bc0",
   "metadata": {},
   "outputs": [
    {
     "data": {
      "text/plain": [
       "<tf.Tensor: shape=(2, 2, 4, 4), dtype=float32, numpy=\n",
       "array([[[[ 0.   ,  1.   ,  2.   ,  3.   ],\n",
       "         [ 1.   ,  2.   ,  3.   ,  4.   ],\n",
       "         [ 1.   ,  3.   ,  5.   ,  7.   ],\n",
       "         [ 2.   ,  4.   ,  6.   ,  8.   ]],\n",
       "\n",
       "        [[ 0.   , -1.   , -2.   , -3.   ],\n",
       "         [-1.   , -2.   , -3.   , -4.   ],\n",
       "         [-1.   , -3.   , -5.   , -7.   ],\n",
       "         [-2.   , -4.   , -6.   , -8.   ]]],\n",
       "\n",
       "\n",
       "       [[[ 0.   ,  1.   ,  2.   ,  3.   ],\n",
       "         [ 0.   ,  0.5  ,  1.   ,  1.5  ],\n",
       "         [ 0.   ,  0.333,  0.666,  1.   ],\n",
       "         [ 0.   ,  0.25 ,  0.5  ,  0.75 ]],\n",
       "\n",
       "        [[ 0.   , -1.   , -2.   , -3.   ],\n",
       "         [ 0.   , -0.5  , -1.   , -1.5  ],\n",
       "         [ 0.   , -0.333, -0.666, -1.   ],\n",
       "         [ 0.   , -0.25 , -0.5  , -0.75 ]]]], dtype=float32)>"
      ]
     },
     "execution_count": 13,
     "metadata": {},
     "output_type": "execute_result"
    }
   ],
   "source": [
    "four_dim_tensor = tf.constant([\n",
    "    [\n",
    "        [\n",
    "        [0,1,2,3],\n",
    "        [1,2,3,4],\n",
    "        [1,3,5,7],\n",
    "        [2,4,6,8]\n",
    "        ],\n",
    "            [\n",
    "        [0,-1,-2,-3],\n",
    "        [-1,-2,-3,-4],\n",
    "        [-1,-3,-5,-7],\n",
    "        [-2,-4,-6, -8]\n",
    "    ]\n",
    "    ],\n",
    "    [\n",
    "        [\n",
    "            [0,1,2,3],\n",
    "            [0, 0.5, 1, 1.5],\n",
    "            [0,0.333, 0.666, 1],\n",
    "            [0, 0.25, 0.5, 0.75]\n",
    "            \n",
    "        ],\n",
    "         [\n",
    "            [0,-1,-2,-3],\n",
    "            [0, -0.5, -1, -1.5],\n",
    "            [0,-0.333, -0.666, -1],\n",
    "            [0, -0.25, -0.5, -0.75]\n",
    "            \n",
    "        ]\n",
    "    ]\n",
    "], dtype = tf.float32)\n",
    "four_dim_tensor"
   ]
  },
  {
   "cell_type": "markdown",
   "id": "910ebda2-d0f0-4e17-9e5a-6098b1b14ce8",
   "metadata": {},
   "source": [
    "### Converting Numpy array to Tensor"
   ]
  },
  {
   "cell_type": "code",
   "execution_count": 14,
   "id": "6a116447-9dd2-466a-9fbd-913701dfae18",
   "metadata": {},
   "outputs": [
    {
     "data": {
      "text/plain": [
       "array([1, 2, 3, 4])"
      ]
     },
     "execution_count": 14,
     "metadata": {},
     "output_type": "execute_result"
    }
   ],
   "source": [
    "np_arr = np.array([1,2,3,4])\n",
    "np_arr"
   ]
  },
  {
   "cell_type": "code",
   "execution_count": 15,
   "id": "973d799a-3499-4693-9b0a-b00823663636",
   "metadata": {},
   "outputs": [
    {
     "data": {
      "text/plain": [
       "<tf.Tensor: shape=(4,), dtype=int64, numpy=array([1, 2, 3, 4])>"
      ]
     },
     "execution_count": 15,
     "metadata": {},
     "output_type": "execute_result"
    }
   ],
   "source": [
    "converted_arr = tf.convert_to_tensor(np_arr)\n",
    "converted_arr"
   ]
  },
  {
   "cell_type": "markdown",
   "id": "8061d036-8ce6-4dae-8058-3b305b3e4d03",
   "metadata": {},
   "source": [
    "### In-built Tensors"
   ]
  },
  {
   "cell_type": "markdown",
   "id": "bb8e62f0-e004-41b5-9a1d-327c31f6aa79",
   "metadata": {},
   "source": [
    "#### Eye\n",
    "https://www.tensorflow.org/api_docs/python/tf/eye\n",
    "\n",
    "```\n",
    "tf.eye(\n",
    "    num_rows,\n",
    "    num_columns=None,\n",
    "    batch_shape=None,\n",
    "    dtype=tf.dtypes.float32,\n",
    "    name=None\n",
    ")\n",
    "```"
   ]
  },
  {
   "cell_type": "code",
   "execution_count": 16,
   "id": "82ddb410-fbba-4539-97a0-99897a0dc7f1",
   "metadata": {},
   "outputs": [
    {
     "data": {
      "text/plain": [
       "<tf.Tensor: shape=(3, 3), dtype=float32, numpy=\n",
       "array([[1., 0., 0.],\n",
       "       [0., 1., 0.],\n",
       "       [0., 0., 1.]], dtype=float32)>"
      ]
     },
     "execution_count": 16,
     "metadata": {},
     "output_type": "execute_result"
    }
   ],
   "source": [
    "eye_tensor = tf.eye(num_rows = 3, num_columns = 3, dtype = tf.dtypes.float32)\n",
    "eye_tensor"
   ]
  },
  {
   "cell_type": "code",
   "execution_count": 18,
   "id": "b591b8b3-3fbe-4ab3-a80a-ab1f03a4fa01",
   "metadata": {},
   "outputs": [
    {
     "data": {
      "text/plain": [
       "<tf.Tensor: shape=(3, 3), dtype=float32, numpy=\n",
       "array([[3., 0., 0.],\n",
       "       [0., 3., 0.],\n",
       "       [0., 0., 3.]], dtype=float32)>"
      ]
     },
     "execution_count": 18,
     "metadata": {},
     "output_type": "execute_result"
    }
   ],
   "source": [
    "3 * eye_tensor"
   ]
  },
  {
   "cell_type": "code",
   "execution_count": 17,
   "id": "6e73b438-154e-494c-b2dc-1ec071843b7e",
   "metadata": {},
   "outputs": [
    {
     "data": {
      "text/plain": [
       "<tf.Tensor: shape=(3, 5), dtype=float32, numpy=\n",
       "array([[1., 0., 0., 0., 0.],\n",
       "       [0., 1., 0., 0., 0.],\n",
       "       [0., 0., 1., 0., 0.]], dtype=float32)>"
      ]
     },
     "execution_count": 17,
     "metadata": {},
     "output_type": "execute_result"
    }
   ],
   "source": [
    "eye_tensor_rect = tf.eye(num_rows = 3, num_columns = 5, dtype = tf.dtypes.float32)\n",
    "eye_tensor_rect"
   ]
  },
  {
   "cell_type": "code",
   "execution_count": 21,
   "id": "b2b0775f-2ae0-4434-94dd-3a2d15b4b9b5",
   "metadata": {},
   "outputs": [
    {
     "data": {
      "text/plain": [
       "<tf.Tensor: shape=(3, 3), dtype=bool, numpy=\n",
       "array([[ True, False, False],\n",
       "       [False,  True, False],\n",
       "       [False, False,  True]])>"
      ]
     },
     "execution_count": 21,
     "metadata": {},
     "output_type": "execute_result"
    }
   ],
   "source": [
    "eye_tensor_bool = tf.eye(num_rows = 3, num_columns = 3, dtype = tf.bool)\n",
    "eye_tensor_bool"
   ]
  },
  {
   "cell_type": "markdown",
   "id": "eacc9e3e-f789-41d5-b87a-8f8946206fcc",
   "metadata": {},
   "source": [
    "##### With Batch size"
   ]
  },
  {
   "cell_type": "code",
   "execution_count": 22,
   "id": "70c69bb6-6eda-4bc1-88b0-28fa698bb398",
   "metadata": {},
   "outputs": [
    {
     "data": {
      "text/plain": [
       "<tf.Tensor: shape=(2, 5, 5), dtype=int32, numpy=\n",
       "array([[[1, 0, 0, 0, 0],\n",
       "        [0, 1, 0, 0, 0],\n",
       "        [0, 0, 1, 0, 0],\n",
       "        [0, 0, 0, 1, 0],\n",
       "        [0, 0, 0, 0, 1]],\n",
       "\n",
       "       [[1, 0, 0, 0, 0],\n",
       "        [0, 1, 0, 0, 0],\n",
       "        [0, 0, 1, 0, 0],\n",
       "        [0, 0, 0, 1, 0],\n",
       "        [0, 0, 0, 0, 1]]], dtype=int32)>"
      ]
     },
     "execution_count": 22,
     "metadata": {},
     "output_type": "execute_result"
    }
   ],
   "source": [
    "eye_tensor_batch = tf.eye(num_rows = 5, num_columns = 5, batch_shape = [2,], dtype = tf.int32)\n",
    "eye_tensor_batch"
   ]
  },
  {
   "cell_type": "code",
   "execution_count": 23,
   "id": "fac4adb1-6735-4102-8da5-4b63b8ffb1b7",
   "metadata": {},
   "outputs": [
    {
     "data": {
      "text/plain": [
       "<tf.Tensor: shape=(2, 2, 5, 5), dtype=int32, numpy=\n",
       "array([[[[1, 0, 0, 0, 0],\n",
       "         [0, 1, 0, 0, 0],\n",
       "         [0, 0, 1, 0, 0],\n",
       "         [0, 0, 0, 1, 0],\n",
       "         [0, 0, 0, 0, 1]],\n",
       "\n",
       "        [[1, 0, 0, 0, 0],\n",
       "         [0, 1, 0, 0, 0],\n",
       "         [0, 0, 1, 0, 0],\n",
       "         [0, 0, 0, 1, 0],\n",
       "         [0, 0, 0, 0, 1]]],\n",
       "\n",
       "\n",
       "       [[[1, 0, 0, 0, 0],\n",
       "         [0, 1, 0, 0, 0],\n",
       "         [0, 0, 1, 0, 0],\n",
       "         [0, 0, 0, 1, 0],\n",
       "         [0, 0, 0, 0, 1]],\n",
       "\n",
       "        [[1, 0, 0, 0, 0],\n",
       "         [0, 1, 0, 0, 0],\n",
       "         [0, 0, 1, 0, 0],\n",
       "         [0, 0, 0, 1, 0],\n",
       "         [0, 0, 0, 0, 1]]]], dtype=int32)>"
      ]
     },
     "execution_count": 23,
     "metadata": {},
     "output_type": "execute_result"
    }
   ],
   "source": [
    "eye_tensor_batch = tf.eye(num_rows = 5, num_columns = 5, batch_shape = [2,2], dtype = tf.int32)\n",
    "eye_tensor_batch"
   ]
  },
  {
   "cell_type": "markdown",
   "id": "16ac410b-5f54-4ef7-b6f8-dc98d0f40614",
   "metadata": {},
   "source": [
    "#### Fill\n",
    "\n",
    "https://www.tensorflow.org/api_docs/python/tf/fill\n",
    "\n",
    "```\n",
    "tf.fill(\n",
    "    dims, value, name=None, layout=None\n",
    ")\n",
    "```"
   ]
  },
  {
   "cell_type": "code",
   "execution_count": 25,
   "id": "9c806373-a951-4b93-9da3-a694548f8a93",
   "metadata": {},
   "outputs": [
    {
     "data": {
      "text/plain": [
       "<tf.Tensor: shape=(2, 2, 3), dtype=int32, numpy=\n",
       "array([[[3, 3, 3],\n",
       "        [3, 3, 3]],\n",
       "\n",
       "       [[3, 3, 3],\n",
       "        [3, 3, 3]]], dtype=int32)>"
      ]
     },
     "execution_count": 25,
     "metadata": {},
     "output_type": "execute_result"
    }
   ],
   "source": [
    "fill_tensor = tf.fill([2,2,3], 3)\n",
    "fill_tensor"
   ]
  },
  {
   "cell_type": "markdown",
   "id": "746807b6-ca79-46d9-87f3-6d0091e3af40",
   "metadata": {},
   "source": [
    "#### One\n",
    "\n",
    "https://www.tensorflow.org/api_docs/python/tf/ones\n",
    "\n",
    "```\n",
    "tf.ones(\n",
    "    shape,\n",
    "    dtype=tf.dtypes.float32,\n",
    "    name=None,\n",
    "    layout=None\n",
    ")\n",
    "```"
   ]
  },
  {
   "cell_type": "code",
   "execution_count": 27,
   "id": "28e65585-472e-4e22-967b-d725b2dad8f2",
   "metadata": {},
   "outputs": [
    {
     "data": {
      "text/plain": [
       "<tf.Tensor: shape=(3, 3, 4), dtype=float32, numpy=\n",
       "array([[[1., 1., 1., 1.],\n",
       "        [1., 1., 1., 1.],\n",
       "        [1., 1., 1., 1.]],\n",
       "\n",
       "       [[1., 1., 1., 1.],\n",
       "        [1., 1., 1., 1.],\n",
       "        [1., 1., 1., 1.]],\n",
       "\n",
       "       [[1., 1., 1., 1.],\n",
       "        [1., 1., 1., 1.],\n",
       "        [1., 1., 1., 1.]]], dtype=float32)>"
      ]
     },
     "execution_count": 27,
     "metadata": {},
     "output_type": "execute_result"
    }
   ],
   "source": [
    "one_tensor = tf.ones([3,3,4], dtype = tf.float32)\n",
    "one_tensor"
   ]
  },
  {
   "cell_type": "markdown",
   "id": "8561b1a8-086a-4bd8-a5cc-8f8ae5a68f8a",
   "metadata": {},
   "source": [
    "#### Ones_like\n",
    "\n",
    "https://www.tensorflow.org/api_docs/python/tf/ones_like\n",
    "\n",
    "```\n",
    "tf.ones_like(\n",
    "    input, dtype=None, name=None, layout=None\n",
    ")\n",
    "```"
   ]
  },
  {
   "cell_type": "code",
   "execution_count": 29,
   "id": "009c87ea-e5c6-4a2d-ab53-6cbc2f2cbe8e",
   "metadata": {},
   "outputs": [
    {
     "data": {
      "text/plain": [
       "<tf.Tensor: shape=(4, 4), dtype=float32, numpy=\n",
       "array([[1., 1., 1., 1.],\n",
       "       [1., 1., 1., 1.],\n",
       "       [1., 1., 1., 1.],\n",
       "       [1., 1., 1., 1.]], dtype=float32)>"
      ]
     },
     "execution_count": 29,
     "metadata": {},
     "output_type": "execute_result"
    }
   ],
   "source": [
    "ones_like_tensor = tf.ones_like(two_dim_tensor, dtype = tf.float32)\n",
    "ones_like_tensor"
   ]
  },
  {
   "cell_type": "markdown",
   "id": "b65abfc5-c9b8-4cb8-9b02-22207670998d",
   "metadata": {},
   "source": [
    "#### Zeros\n",
    "\n",
    "https://www.tensorflow.org/api_docs/python/tf/zeros\n",
    "\n",
    "```\n",
    "tf.zeros(\n",
    "    shape,\n",
    "    dtype=tf.dtypes.float32,\n",
    "    name=None,\n",
    "    layout=None\n",
    ")\n",
    "```"
   ]
  },
  {
   "cell_type": "code",
   "execution_count": 30,
   "id": "4bc40a90-2c71-4752-be71-e245341b9cf8",
   "metadata": {},
   "outputs": [
    {
     "data": {
      "text/plain": [
       "<tf.Tensor: shape=(2, 5, 5), dtype=int32, numpy=\n",
       "array([[[0, 0, 0, 0, 0],\n",
       "        [0, 0, 0, 0, 0],\n",
       "        [0, 0, 0, 0, 0],\n",
       "        [0, 0, 0, 0, 0],\n",
       "        [0, 0, 0, 0, 0]],\n",
       "\n",
       "       [[0, 0, 0, 0, 0],\n",
       "        [0, 0, 0, 0, 0],\n",
       "        [0, 0, 0, 0, 0],\n",
       "        [0, 0, 0, 0, 0],\n",
       "        [0, 0, 0, 0, 0]]], dtype=int32)>"
      ]
     },
     "execution_count": 30,
     "metadata": {},
     "output_type": "execute_result"
    }
   ],
   "source": [
    "zeros_tensor = tf.zeros ([2,5,5], dtype = tf.int32)\n",
    "zeros_tensor"
   ]
  },
  {
   "cell_type": "markdown",
   "id": "408c4fc9-07cc-4dbe-8827-79543dc7758c",
   "metadata": {},
   "source": [
    "#### Zeros_like\n",
    "\n",
    "https://www.tensorflow.org/api_docs/python/tf/zeros_like\n",
    "\n",
    "```\n",
    "tf.zeros_like(\n",
    "    input, dtype=None, name=None, layout=None\n",
    ")\n",
    "```"
   ]
  },
  {
   "cell_type": "code",
   "execution_count": 31,
   "id": "0cb50d38-b6c4-4530-852c-9b136dab20c7",
   "metadata": {},
   "outputs": [
    {
     "data": {
      "text/plain": [
       "<tf.Tensor: shape=(4, 4), dtype=int32, numpy=\n",
       "array([[0, 0, 0, 0],\n",
       "       [0, 0, 0, 0],\n",
       "       [0, 0, 0, 0],\n",
       "       [0, 0, 0, 0]], dtype=int32)>"
      ]
     },
     "execution_count": 31,
     "metadata": {},
     "output_type": "execute_result"
    }
   ],
   "source": [
    "zeros_like_tensor = tf.zeros_like(two_dim_tensor, dtype = tf.int32)\n",
    "zeros_like_tensor"
   ]
  },
  {
   "cell_type": "markdown",
   "id": "f31b33ad-c8dd-4981-92da-3438b1200972",
   "metadata": {},
   "source": [
    "#### Shape\n",
    "\n",
    "https://www.tensorflow.org/api_docs/python/tf/shape\n",
    "\n",
    "```\n",
    "tf.shape(\n",
    "    input, out_type=None, name=None\n",
    ")\n",
    "```"
   ]
  },
  {
   "cell_type": "code",
   "execution_count": 32,
   "id": "17a9fc8b-0dc5-444d-bd6c-a39b64ee662f",
   "metadata": {},
   "outputs": [
    {
     "data": {
      "text/plain": [
       "TensorShape([2, 4, 4])"
      ]
     },
     "execution_count": 32,
     "metadata": {},
     "output_type": "execute_result"
    }
   ],
   "source": [
    "three_dim_tensor.shape"
   ]
  },
  {
   "cell_type": "code",
   "execution_count": 33,
   "id": "2208ba20-ab8a-4e74-835f-979c53e5b08a",
   "metadata": {},
   "outputs": [
    {
     "data": {
      "text/plain": [
       "<tf.Tensor: shape=(3,), dtype=int32, numpy=array([2, 4, 4], dtype=int32)>"
      ]
     },
     "execution_count": 33,
     "metadata": {},
     "output_type": "execute_result"
    }
   ],
   "source": [
    "tf.shape(three_dim_tensor)"
   ]
  },
  {
   "cell_type": "markdown",
   "id": "05d95902-0c17-40cd-8c74-4173abf60c0b",
   "metadata": {},
   "source": [
    "#### rank\n",
    "\n",
    "https://www.tensorflow.org/api_docs/python/tf/rank\n",
    "\n",
    "```\n",
    "tf.rank(\n",
    "    input, name=None\n",
    ")\n",
    "```"
   ]
  },
  {
   "cell_type": "code",
   "execution_count": 36,
   "id": "1854ca97-0a1f-42ee-9157-927bf0d75c08",
   "metadata": {},
   "outputs": [
    {
     "data": {
      "text/plain": [
       "<tf.Tensor: shape=(), dtype=int32, numpy=3>"
      ]
     },
     "execution_count": 36,
     "metadata": {},
     "output_type": "execute_result"
    }
   ],
   "source": [
    "tf.rank(three_dim_tensor)"
   ]
  },
  {
   "cell_type": "markdown",
   "id": "1cae9272-aa7b-4bc0-86ac-2ae3680d1223",
   "metadata": {},
   "source": [
    "#### Size\n",
    "\n",
    "https://www.tensorflow.org/api_docs/python/tf/size\n",
    "\n",
    "```\n",
    "tf.size(\n",
    "    input, out_type=None, name=None\n",
    ")\n",
    "```"
   ]
  },
  {
   "cell_type": "code",
   "execution_count": 38,
   "id": "a67f8911-3946-4a74-bf05-dcc2ab9c25bc",
   "metadata": {},
   "outputs": [
    {
     "data": {
      "text/plain": [
       "<tf.Tensor: shape=(), dtype=float32, numpy=12.0>"
      ]
     },
     "execution_count": 38,
     "metadata": {},
     "output_type": "execute_result"
    }
   ],
   "source": [
    "t = tf.constant([[[1, 1, 1], [2, 2, 2]], [[3, 3, 3], [4, 4, 4]]])\n",
    "tf.size(t, tf.float32)\n"
   ]
  },
  {
   "cell_type": "markdown",
   "id": "417693ff-0095-486d-9405-a7b8088cf2ea",
   "metadata": {},
   "source": [
    "#### RANDOM - Normal\n",
    "\n",
    "https://www.tensorflow.org/api_docs/python/tf/random/normal\n",
    "\n",
    "```\n",
    "tf.random.normal(\n",
    "    shape,\n",
    "    mean=0.0,\n",
    "    stddev=1.0,\n",
    "    dtype=tf.dtypes.float32,\n",
    "    seed=None,\n",
    "    name=None\n",
    ")\n",
    "```\n",
    "\n",
    "https://www.acsu.buffalo.edu/~adamcunn/probability/normal.html"
   ]
  },
  {
   "cell_type": "code",
   "execution_count": 40,
   "id": "e779c42e-7f58-4a26-afaf-a74112de253f",
   "metadata": {},
   "outputs": [
    {
     "data": {
      "text/plain": [
       "<tf.Tensor: shape=(2, 3), dtype=float32, numpy=\n",
       "array([[-1.3933939 , -1.0931934 , -0.08220249],\n",
       "       [-0.6170196 , -1.4793106 ,  1.3764771 ]], dtype=float32)>"
      ]
     },
     "execution_count": 40,
     "metadata": {},
     "output_type": "execute_result"
    }
   ],
   "source": [
    "random_normal_tensor = tf.random.normal(\n",
    "    [2,3],\n",
    "    mean=0.0,\n",
    "    stddev=1.0,\n",
    "    dtype=tf.dtypes.float32,\n",
    "    seed=None,\n",
    "    name=None\n",
    ")\n",
    "random_normal_tensor"
   ]
  },
  {
   "cell_type": "code",
   "execution_count": 41,
   "id": "96ec4453-85c9-4419-9388-5d06e36e225e",
   "metadata": {},
   "outputs": [
    {
     "data": {
      "text/plain": [
       "<tf.Tensor: shape=(2, 3), dtype=float32, numpy=\n",
       "array([[124.92335 ,  62.593822, 104.76349 ],\n",
       "       [108.851875, 135.72296 ,  95.522316]], dtype=float32)>"
      ]
     },
     "execution_count": 41,
     "metadata": {},
     "output_type": "execute_result"
    }
   ],
   "source": [
    "# Updating mean and stddev\n",
    "random_normal_tensor = tf.random.normal(\n",
    "    [2,3],\n",
    "    mean=100.0,\n",
    "    stddev=20.0,\n",
    "    dtype=tf.dtypes.float32,\n",
    "    seed=None,\n",
    "    name=None\n",
    ")\n",
    "random_normal_tensor"
   ]
  },
  {
   "cell_type": "markdown",
   "id": "c2357d98-9eb0-414a-8177-48306de0d529",
   "metadata": {},
   "source": [
    "#### RANDOM - Uniform\n",
    "\n",
    "https://www.tensorflow.org/api_docs/python/tf/random/uniform\n",
    "\n",
    "```\n",
    "tf.random.uniform(\n",
    "    shape,\n",
    "    minval=0,\n",
    "    maxval=None,\n",
    "    dtype=tf.dtypes.float32,\n",
    "    seed=None,\n",
    "    name=None\n",
    ")\n",
    "```\n",
    "\n",
    "https://www.acsu.buffalo.edu/~adamcunn/probability/uniform.html"
   ]
  },
  {
   "cell_type": "code",
   "execution_count": 42,
   "id": "18ee3463-f503-4a38-9023-3dd5973082e6",
   "metadata": {},
   "outputs": [
    {
     "data": {
      "text/plain": [
       "<tf.Tensor: shape=(2, 3), dtype=float32, numpy=\n",
       "array([[0.11634946, 0.6521925 , 0.6439631 ],\n",
       "       [0.44690764, 0.75336397, 0.10279322]], dtype=float32)>"
      ]
     },
     "execution_count": 42,
     "metadata": {},
     "output_type": "execute_result"
    }
   ],
   "source": [
    "random_uniform_tensor = tf.random.uniform(\n",
    "    [2,3],\n",
    "    minval=0,\n",
    "    maxval=None,\n",
    "    dtype=tf.dtypes.float32,\n",
    "    seed=None,\n",
    "    name=None\n",
    ")\n",
    "random_uniform_tensor"
   ]
  },
  {
   "cell_type": "code",
   "execution_count": 44,
   "id": "6ded38e8-cf1f-44e8-b55b-b413749e1ddf",
   "metadata": {},
   "outputs": [
    {
     "data": {
      "text/plain": [
       "<tf.Tensor: shape=(2, 3), dtype=int32, numpy=\n",
       "array([[21, 16, 21],\n",
       "       [20, 21, 14]], dtype=int32)>"
      ]
     },
     "execution_count": 44,
     "metadata": {},
     "output_type": "execute_result"
    }
   ],
   "source": [
    "# Updating with Min and Max val\n",
    "random_uniform_tensor = tf.random.uniform(\n",
    "    [2,3],\n",
    "    minval=10,\n",
    "    maxval=25,\n",
    "    dtype=tf.dtypes.int32,\n",
    "    seed=None,\n",
    "    name=None\n",
    ")\n",
    "random_uniform_tensor"
   ]
  },
  {
   "cell_type": "code",
   "execution_count": 45,
   "id": "53d3e8c8-e5f2-4ada-ab36-a5f6dac451e8",
   "metadata": {},
   "outputs": [
    {
     "data": {
      "text/plain": [
       "<tf.Tensor: shape=(5, 5), dtype=int32, numpy=\n",
       "array([[310, 313, 525,  71,  15],\n",
       "       [640, 100, 803, 655, 850],\n",
       "       [764, 393, 262, 360, 942],\n",
       "       [745, 368, 337, 210, 485],\n",
       "       [751, 401, 526, 571, 444]], dtype=int32)>"
      ]
     },
     "execution_count": 45,
     "metadata": {},
     "output_type": "execute_result"
    }
   ],
   "source": [
    "random_uniform_tensor = tf.random.uniform(\n",
    "    [5,5],\n",
    "    minval=0,\n",
    "    maxval=1000,\n",
    "    dtype=tf.dtypes.int32,\n",
    "    seed=None,\n",
    "    name=None\n",
    ")\n",
    "random_uniform_tensor"
   ]
  },
  {
   "cell_type": "markdown",
   "id": "6e63fbba-75d1-4db3-8328-ff74e14e816f",
   "metadata": {},
   "source": [
    "#### RANDOM - Seed"
   ]
  },
  {
   "cell_type": "code",
   "execution_count": 46,
   "id": "1406cb81-1031-43ae-a8fd-da957de50290",
   "metadata": {},
   "outputs": [
    {
     "name": "stdout",
     "output_type": "stream",
     "text": [
      "tf.Tensor([4 3 1], shape=(3,), dtype=int32)\n",
      "tf.Tensor([4 3 2], shape=(3,), dtype=int32)\n",
      "tf.Tensor([1 1 1], shape=(3,), dtype=int32)\n",
      "tf.Tensor([1 3 3], shape=(3,), dtype=int32)\n",
      "tf.Tensor([4 2 2], shape=(3,), dtype=int32)\n"
     ]
    }
   ],
   "source": [
    "tf.random.set_seed(5)\n",
    "print(tf.random.uniform(shape=[3,], maxval = 5, dtype = tf.int32, seed = 10))\n",
    "print(tf.random.uniform(shape=[3,], maxval = 5, dtype = tf.int32, seed = 10))\n",
    "print(tf.random.uniform(shape=[3,], maxval = 5, dtype = tf.int32, seed = 10))\n",
    "print(tf.random.uniform(shape=[3,], maxval = 5, dtype = tf.int32, seed = 10))\n",
    "print(tf.random.uniform(shape=[3,], maxval = 5, dtype = tf.int32, seed = 10))"
   ]
  },
  {
   "cell_type": "code",
   "execution_count": 47,
   "id": "7777a436-8a80-43be-b3bc-5a46f81f9a3e",
   "metadata": {},
   "outputs": [
    {
     "name": "stdout",
     "output_type": "stream",
     "text": [
      "tf.Tensor([4 3 1], shape=(3,), dtype=int32)\n",
      "tf.Tensor([4 3 2], shape=(3,), dtype=int32)\n",
      "tf.Tensor([1 1 1], shape=(3,), dtype=int32)\n",
      "tf.Tensor([1 3 3], shape=(3,), dtype=int32)\n",
      "tf.Tensor([4 2 2], shape=(3,), dtype=int32)\n"
     ]
    }
   ],
   "source": [
    "# To reproduce the random numbers\n",
    "tf.random.set_seed(5)\n",
    "print(tf.random.uniform(shape=[3,], maxval = 5, dtype = tf.int32, seed = 10))\n",
    "print(tf.random.uniform(shape=[3,], maxval = 5, dtype = tf.int32, seed = 10))\n",
    "print(tf.random.uniform(shape=[3,], maxval = 5, dtype = tf.int32, seed = 10))\n",
    "print(tf.random.uniform(shape=[3,], maxval = 5, dtype = tf.int32, seed = 10))\n",
    "print(tf.random.uniform(shape=[3,], maxval = 5, dtype = tf.int32, seed = 10))"
   ]
  },
  {
   "cell_type": "code",
   "execution_count": 48,
   "id": "7fa9324b-38d7-46b1-8f85-d49b9208b631",
   "metadata": {},
   "outputs": [
    {
     "name": "stdout",
     "output_type": "stream",
     "text": [
      "tf.Tensor([4 3 1], shape=(3,), dtype=int32)\n",
      "tf.Tensor([4 3 2], shape=(3,), dtype=int32)\n",
      "tf.Tensor([1 1 1], shape=(3,), dtype=int32)\n",
      "tf.Tensor([1 3 3], shape=(3,), dtype=int32)\n",
      "tf.Tensor([4 1 3], shape=(3,), dtype=int32)\n"
     ]
    }
   ],
   "source": [
    "# Updated some seed\n",
    "tf.random.set_seed(5)\n",
    "print(tf.random.uniform(shape=[3,], maxval = 5, dtype = tf.int32, seed = 10))\n",
    "print(tf.random.uniform(shape=[3,], maxval = 5, dtype = tf.int32, seed = 10))\n",
    "print(tf.random.uniform(shape=[3,], maxval = 5, dtype = tf.int32, seed = 10))\n",
    "print(tf.random.uniform(shape=[3,], maxval = 5, dtype = tf.int32, seed = 10))\n",
    "print(tf.random.uniform(shape=[3,], maxval = 5, dtype = tf.int32, seed = 1)) # UPdated seed to 1 from 10"
   ]
  },
  {
   "cell_type": "code",
   "execution_count": 49,
   "id": "80fcca8a-ef7e-47a8-9c3b-f8f99890f3ec",
   "metadata": {},
   "outputs": [
    {
     "name": "stdout",
     "output_type": "stream",
     "text": [
      "tf.Tensor([4 2 2], shape=(3,), dtype=int32)\n",
      "tf.Tensor([4 2 1], shape=(3,), dtype=int32)\n",
      "tf.Tensor([4 1 0], shape=(3,), dtype=int32)\n",
      "tf.Tensor([1 2 1], shape=(3,), dtype=int32)\n",
      "tf.Tensor([2 4 2], shape=(3,), dtype=int32)\n"
     ]
    }
   ],
   "source": [
    "# Removed the set_seed\n",
    "print(tf.random.uniform(shape=[3,], maxval = 5, dtype = tf.int32, seed = 10))\n",
    "print(tf.random.uniform(shape=[3,], maxval = 5, dtype = tf.int32, seed = 10))\n",
    "print(tf.random.uniform(shape=[3,], maxval = 5, dtype = tf.int32, seed = 10))\n",
    "print(tf.random.uniform(shape=[3,], maxval = 5, dtype = tf.int32, seed = 10))\n",
    "print(tf.random.uniform(shape=[3,], maxval = 5, dtype = tf.int32, seed = 10))"
   ]
  },
  {
   "cell_type": "markdown",
   "id": "dbb90937-c522-4100-be23-ea49b630aa60",
   "metadata": {},
   "source": [
    "#### range"
   ]
  },
  {
   "cell_type": "code",
   "execution_count": 52,
   "id": "0a4afce7-7eb9-4f47-96be-1cad42933459",
   "metadata": {},
   "outputs": [
    {
     "data": {
      "text/plain": [
       "<tf.Tensor: shape=(6,), dtype=int32, numpy=array([2, 3, 4, 5, 6, 7], dtype=int32)>"
      ]
     },
     "execution_count": 52,
     "metadata": {},
     "output_type": "execute_result"
    }
   ],
   "source": [
    "tf.range(2,8)"
   ]
  },
  {
   "cell_type": "markdown",
   "id": "d8dce91e-a662-4903-99d9-3376a6106ec5",
   "metadata": {},
   "source": [
    "### Indexing"
   ]
  },
  {
   "cell_type": "markdown",
   "id": "f663ef9e-974d-4673-8204-0ac2b53296fe",
   "metadata": {},
   "source": [
    "#### One Dimensional"
   ]
  },
  {
   "cell_type": "code",
   "execution_count": 50,
   "id": "d89e3b85-c441-488e-949c-fae0c2e3e3bf",
   "metadata": {},
   "outputs": [
    {
     "data": {
      "text/plain": [
       "<tf.Tensor: shape=(4,), dtype=int32, numpy=array([3, 6, 2, 4], dtype=int32)>"
      ]
     },
     "execution_count": 50,
     "metadata": {},
     "output_type": "execute_result"
    }
   ],
   "source": [
    "indexed_tensor = tf.constant([3,6,2,4,6,66,7])\n",
    "indexed_tensor[0:4]"
   ]
  },
  {
   "cell_type": "code",
   "execution_count": 51,
   "id": "2a015a32-7c58-46a3-9748-34e9946391ef",
   "metadata": {},
   "outputs": [
    {
     "data": {
      "text/plain": [
       "<tf.Tensor: shape=(5,), dtype=int32, numpy=array([ 6,  2,  4,  6, 66], dtype=int32)>"
      ]
     },
     "execution_count": 51,
     "metadata": {},
     "output_type": "execute_result"
    }
   ],
   "source": [
    "indexed_tensor[1:6]"
   ]
  },
  {
   "cell_type": "code",
   "execution_count": 53,
   "id": "4fc20e1f-57b1-4f6e-914f-057b1951eb00",
   "metadata": {},
   "outputs": [
    {
     "data": {
      "text/plain": [
       "<tf.Tensor: shape=(3,), dtype=int32, numpy=array([3, 2, 6], dtype=int32)>"
      ]
     },
     "execution_count": 53,
     "metadata": {},
     "output_type": "execute_result"
    }
   ],
   "source": [
    "# steps\n",
    "indexed_tensor[0:6:2]"
   ]
  },
  {
   "cell_type": "code",
   "execution_count": 55,
   "id": "d2acf3b4-998a-4623-96fd-48c35172c956",
   "metadata": {},
   "outputs": [
    {
     "name": "stdout",
     "output_type": "stream",
     "text": [
      "tf.Tensor([ 2  4  6 66  7], shape=(5,), dtype=int32)\n",
      "tf.Tensor([3 6 2 4 6], shape=(5,), dtype=int32)\n"
     ]
    }
   ],
   "source": [
    "print(indexed_tensor[2:])\n",
    "print(indexed_tensor[:5])"
   ]
  },
  {
   "cell_type": "code",
   "execution_count": 57,
   "id": "f9a7235f-9e21-4bcf-98f3-230547d19778",
   "metadata": {},
   "outputs": [
    {
     "name": "stdout",
     "output_type": "stream",
     "text": [
      "tf.Tensor([ 4  6 66], shape=(3,), dtype=int32)\n",
      "tf.Tensor([4 6], shape=(2,), dtype=int32)\n"
     ]
    }
   ],
   "source": [
    "print(indexed_tensor[3:-1])\n",
    "print(indexed_tensor[3:-2])"
   ]
  },
  {
   "cell_type": "markdown",
   "id": "5d971a2d-215f-46e3-ac73-172003b4f30e",
   "metadata": {},
   "source": [
    "#### Two Dimensional"
   ]
  },
  {
   "cell_type": "code",
   "execution_count": 62,
   "id": "59b1468b-39b8-4699-97ad-99a9ea9b5047",
   "metadata": {},
   "outputs": [
    {
     "name": "stdout",
     "output_type": "stream",
     "text": [
      "tf.Tensor(\n",
      "[[ 1  2  0]\n",
      " [ 3  5 -1]\n",
      " [ 1  5  6]], shape=(3, 3), dtype=int32)\n"
     ]
    }
   ],
   "source": [
    "two_dim_tensor = tf.constant([\n",
    "    [1,2,0],\n",
    "    [3,5,-1],\n",
    "    [1,5,6],\n",
    "    [2,3,8]\n",
    "])\n",
    "# rows with all columns\n",
    "print(two_dim_tensor[0:3,])"
   ]
  },
  {
   "cell_type": "code",
   "execution_count": 63,
   "id": "e719eb53-727f-4352-a023-72a3bf6bacec",
   "metadata": {},
   "outputs": [
    {
     "name": "stdout",
     "output_type": "stream",
     "text": [
      "tf.Tensor(\n",
      "[[1 2]\n",
      " [3 5]\n",
      " [1 5]\n",
      " [2 3]], shape=(4, 2), dtype=int32)\n"
     ]
    }
   ],
   "source": [
    "# Columns in all rows\n",
    "print(two_dim_tensor[:,0:2])"
   ]
  },
  {
   "cell_type": "code",
   "execution_count": 65,
   "id": "f7c1fe46-3853-40a2-bd15-fef78a12fddb",
   "metadata": {},
   "outputs": [
    {
     "name": "stdout",
     "output_type": "stream",
     "text": [
      "tf.Tensor(\n",
      "[[1 2]\n",
      " [3 5]\n",
      " [1 5]], shape=(3, 2), dtype=int32)\n"
     ]
    }
   ],
   "source": [
    "#combination of rows and columns\n",
    "print(two_dim_tensor[0:3,0:2])"
   ]
  },
  {
   "cell_type": "code",
   "execution_count": 66,
   "id": "ede9b542-c664-4103-81f9-36ba2e0cab7d",
   "metadata": {},
   "outputs": [
    {
     "name": "stdout",
     "output_type": "stream",
     "text": [
      "tf.Tensor([1 5 6], shape=(3,), dtype=int32)\n"
     ]
    }
   ],
   "source": [
    "# Fetch single row\n",
    "print(two_dim_tensor[2,:])"
   ]
  },
  {
   "cell_type": "code",
   "execution_count": 67,
   "id": "c8b48da5-efc5-4009-a01d-18d84c001168",
   "metadata": {},
   "outputs": [
    {
     "name": "stdout",
     "output_type": "stream",
     "text": [
      "tf.Tensor(5, shape=(), dtype=int32)\n"
     ]
    }
   ],
   "source": [
    "print(two_dim_tensor[2,1])"
   ]
  },
  {
   "cell_type": "code",
   "execution_count": 69,
   "id": "43cb1b6f-21b6-4114-ad28-53b8eedec960",
   "metadata": {},
   "outputs": [
    {
     "name": "stdout",
     "output_type": "stream",
     "text": [
      "tf.Tensor([1 3 1], shape=(3,), dtype=int32)\n"
     ]
    }
   ],
   "source": [
    "print(two_dim_tensor[0:3,0])"
   ]
  },
  {
   "cell_type": "markdown",
   "id": "10da4b10-9c86-4644-916c-13d47cdb2365",
   "metadata": {},
   "source": [
    "##### Special ..."
   ]
  },
  {
   "cell_type": "code",
   "execution_count": 70,
   "id": "17cb46c9-94b1-4b20-8831-8b6dec058cfc",
   "metadata": {},
   "outputs": [
    {
     "data": {
      "text/plain": [
       "<tf.Tensor: shape=(4,), dtype=int32, numpy=array([2, 5, 5, 3], dtype=int32)>"
      ]
     },
     "execution_count": 70,
     "metadata": {},
     "output_type": "execute_result"
    }
   ],
   "source": [
    "# Using Special ...\n",
    "two_dim_tensor[...,1]"
   ]
  },
  {
   "cell_type": "markdown",
   "id": "d2238615-0ade-4176-8a76-4a3d0d044a83",
   "metadata": {},
   "source": [
    "#### Three Dimensional"
   ]
  },
  {
   "cell_type": "code",
   "execution_count": 71,
   "id": "bfda517f-2710-40c2-a053-90f50d199747",
   "metadata": {},
   "outputs": [
    {
     "data": {
      "text/plain": [
       "<tf.Tensor: shape=(2, 4, 5), dtype=int32, numpy=\n",
       "array([[[ 1,  2,  3,  4,  5],\n",
       "        [ 6,  7,  8,  9, 10],\n",
       "        [11, 12, 13, 14, 15],\n",
       "        [16, 17, 18, 19, 20]],\n",
       "\n",
       "       [[21, 22, 23, 24, 25],\n",
       "        [26, 27, 28, 29, 30],\n",
       "        [31, 32, 33, 34, 35],\n",
       "        [36, 37, 38, 39, 40]]], dtype=int32)>"
      ]
     },
     "execution_count": 71,
     "metadata": {},
     "output_type": "execute_result"
    }
   ],
   "source": [
    "three_dim_tensor = tf.constant(\n",
    "    [[[1, 2, 3, 4, 5],\n",
    "                       [6, 7, 8, 9, 10],\n",
    "                       [11, 12, 13, 14, 15],\n",
    "                       [16, 17, 18, 19, 20]],\n",
    "                      \n",
    "                      [[21, 22, 23, 24, 25],\n",
    "                       [26, 27, 28, 29, 30],\n",
    "                       [31, 32, 33, 34, 35],\n",
    "                       [36, 37, 38, 39, 40]]]\n",
    ")\n",
    "three_dim_tensor"
   ]
  },
  {
   "cell_type": "code",
   "execution_count": 72,
   "id": "1be9b8f9-ed21-4996-a0f6-3e757cef0bd7",
   "metadata": {},
   "outputs": [
    {
     "data": {
      "text/plain": [
       "<tf.Tensor: shape=(4, 5), dtype=int32, numpy=\n",
       "array([[ 1,  2,  3,  4,  5],\n",
       "       [ 6,  7,  8,  9, 10],\n",
       "       [11, 12, 13, 14, 15],\n",
       "       [16, 17, 18, 19, 20]], dtype=int32)>"
      ]
     },
     "execution_count": 72,
     "metadata": {},
     "output_type": "execute_result"
    }
   ],
   "source": [
    "three_dim_tensor[0,:,:]"
   ]
  },
  {
   "cell_type": "code",
   "execution_count": 79,
   "id": "525f5636-41bd-4f11-bb51-7c39e15619ef",
   "metadata": {},
   "outputs": [
    {
     "name": "stdout",
     "output_type": "stream",
     "text": [
      "tf.Tensor(1, shape=(), dtype=int32)\n",
      "tf.Tensor([1 2 3 4 5], shape=(5,), dtype=int32)\n",
      "tf.Tensor([ 1  6 11 16], shape=(4,), dtype=int32)\n",
      "tf.Tensor(\n",
      "[[ 3  8 13 18]\n",
      " [23 28 33 38]], shape=(2, 4), dtype=int32)\n",
      "tf.Tensor(\n",
      "[[ 5 10 15 20]\n",
      " [25 30 35 40]], shape=(2, 4), dtype=int32)\n"
     ]
    }
   ],
   "source": [
    "# First Element\n",
    "print(three_dim_tensor[0,0,0])\n",
    "# First Row\n",
    "print(three_dim_tensor[0,0,])\n",
    "#First Column\n",
    "print(three_dim_tensor[0,:,0])\n",
    "# Third Column from entire tensor\n",
    "print(three_dim_tensor[0:2,:,2])\n",
    "# Last Column from entire tensor with special ...\n",
    "print(three_dim_tensor[0:2,...,4])"
   ]
  },
  {
   "cell_type": "code",
   "execution_count": null,
   "id": "01dceeeb-03e7-4a47-bbf3-645e5e18f108",
   "metadata": {},
   "outputs": [],
   "source": []
  }
 ],
 "metadata": {
  "kernelspec": {
   "display_name": "Python 3 (ipykernel)",
   "language": "python",
   "name": "python3"
  },
  "language_info": {
   "codemirror_mode": {
    "name": "ipython",
    "version": 3
   },
   "file_extension": ".py",
   "mimetype": "text/x-python",
   "name": "python",
   "nbconvert_exporter": "python",
   "pygments_lexer": "ipython3",
   "version": "3.11.0rc1"
  }
 },
 "nbformat": 4,
 "nbformat_minor": 5
}
