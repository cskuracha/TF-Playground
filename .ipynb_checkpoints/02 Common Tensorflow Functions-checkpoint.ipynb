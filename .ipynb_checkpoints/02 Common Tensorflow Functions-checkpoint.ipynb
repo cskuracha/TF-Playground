{
 "cells": [
  {
   "cell_type": "markdown",
   "id": "18a7efd1-b937-4c95-808f-dc11f66065f0",
   "metadata": {},
   "source": [
    "## **Tensorflow Common Functions**"
   ]
  },
  {
   "cell_type": "markdown",
   "id": "97e337b6-afd8-4381-b295-906da5bb6b5d",
   "metadata": {},
   "source": [
    "### **expand_dim**\n",
    "\n",
    "Returns a tensor with a length 1 axis inserted at index axis\n",
    "\n",
    "https://www.tensorflow.org/api_docs/python/tf/expand_dims\n",
    "```\n",
    "tf.expand_dims(\n",
    "    input, axis, name=None\n",
    ")\n",
    "```\n"
   ]
  },
  {
   "cell_type": "code",
   "execution_count": 1,
   "id": "a76c5241-b5ef-4979-853d-f330f6271af2",
   "metadata": {},
   "outputs": [
    {
     "name": "stderr",
     "output_type": "stream",
     "text": [
      "2024-02-05 12:00:04.769919: E external/local_xla/xla/stream_executor/cuda/cuda_dnn.cc:9261] Unable to register cuDNN factory: Attempting to register factory for plugin cuDNN when one has already been registered\n",
      "2024-02-05 12:00:04.769995: E external/local_xla/xla/stream_executor/cuda/cuda_fft.cc:607] Unable to register cuFFT factory: Attempting to register factory for plugin cuFFT when one has already been registered\n",
      "2024-02-05 12:00:04.836166: E external/local_xla/xla/stream_executor/cuda/cuda_blas.cc:1515] Unable to register cuBLAS factory: Attempting to register factory for plugin cuBLAS when one has already been registered\n",
      "2024-02-05 12:00:04.973084: I tensorflow/core/platform/cpu_feature_guard.cc:182] This TensorFlow binary is optimized to use available CPU instructions in performance-critical operations.\n",
      "To enable the following instructions: AVX2 FMA, in other operations, rebuild TensorFlow with the appropriate compiler flags.\n"
     ]
    }
   ],
   "source": [
    "import tensorflow as tf"
   ]
  },
  {
   "cell_type": "code",
   "execution_count": 3,
   "id": "20f51978-e9b8-444f-a9bf-bc6665324213",
   "metadata": {},
   "outputs": [
    {
     "name": "stderr",
     "output_type": "stream",
     "text": [
      "2024-02-05 12:02:36.628634: I external/local_xla/xla/stream_executor/cuda/cuda_executor.cc:887] could not open file to read NUMA node: /sys/bus/pci/devices/0000:01:00.0/numa_node\n",
      "Your kernel may have been built without NUMA support.\n",
      "2024-02-05 12:02:36.695945: I external/local_xla/xla/stream_executor/cuda/cuda_executor.cc:887] could not open file to read NUMA node: /sys/bus/pci/devices/0000:01:00.0/numa_node\n",
      "Your kernel may have been built without NUMA support.\n",
      "2024-02-05 12:02:36.695985: I external/local_xla/xla/stream_executor/cuda/cuda_executor.cc:887] could not open file to read NUMA node: /sys/bus/pci/devices/0000:01:00.0/numa_node\n",
      "Your kernel may have been built without NUMA support.\n",
      "2024-02-05 12:02:36.700387: I external/local_xla/xla/stream_executor/cuda/cuda_executor.cc:887] could not open file to read NUMA node: /sys/bus/pci/devices/0000:01:00.0/numa_node\n",
      "Your kernel may have been built without NUMA support.\n",
      "2024-02-05 12:02:36.700468: I external/local_xla/xla/stream_executor/cuda/cuda_executor.cc:887] could not open file to read NUMA node: /sys/bus/pci/devices/0000:01:00.0/numa_node\n",
      "Your kernel may have been built without NUMA support.\n",
      "2024-02-05 12:02:36.700502: I external/local_xla/xla/stream_executor/cuda/cuda_executor.cc:887] could not open file to read NUMA node: /sys/bus/pci/devices/0000:01:00.0/numa_node\n",
      "Your kernel may have been built without NUMA support.\n",
      "2024-02-05 12:02:37.061927: I external/local_xla/xla/stream_executor/cuda/cuda_executor.cc:887] could not open file to read NUMA node: /sys/bus/pci/devices/0000:01:00.0/numa_node\n",
      "Your kernel may have been built without NUMA support.\n",
      "2024-02-05 12:02:37.061974: I external/local_xla/xla/stream_executor/cuda/cuda_executor.cc:887] could not open file to read NUMA node: /sys/bus/pci/devices/0000:01:00.0/numa_node\n",
      "Your kernel may have been built without NUMA support.\n",
      "2024-02-05 12:02:37.061982: I tensorflow/core/common_runtime/gpu/gpu_device.cc:2022] Could not identify NUMA node of platform GPU id 0, defaulting to 0.  Your kernel may not have been built with NUMA support.\n",
      "2024-02-05 12:02:37.062009: I external/local_xla/xla/stream_executor/cuda/cuda_executor.cc:887] could not open file to read NUMA node: /sys/bus/pci/devices/0000:01:00.0/numa_node\n",
      "Your kernel may have been built without NUMA support.\n",
      "2024-02-05 12:02:37.062026: I tensorflow/core/common_runtime/gpu/gpu_device.cc:1929] Created device /job:localhost/replica:0/task:0/device:GPU:0 with 4071 MB memory:  -> device: 0, name: NVIDIA GeForce RTX 2060 with Max-Q Design, pci bus id: 0000:01:00.0, compute capability: 7.5\n"
     ]
    },
    {
     "data": {
      "text/plain": [
       "<tf.Tensor: shape=(4, 2, 3), dtype=int32, numpy=\n",
       "array([[[ 1,  2,  0],\n",
       "        [ 3,  5, -1]],\n",
       "\n",
       "       [[10,  2,  0],\n",
       "        [ 1,  0,  2]],\n",
       "\n",
       "       [[ 5,  8,  0],\n",
       "        [ 2,  7,  0]],\n",
       "\n",
       "       [[ 2,  1,  9],\n",
       "        [ 4, -3, 32]]], dtype=int32)>"
      ]
     },
     "execution_count": 3,
     "metadata": {},
     "output_type": "execute_result"
    }
   ],
   "source": [
    "tensor_3d = tf.constant([\n",
    "    [\n",
    "        [1,2,0],\n",
    "        [3, 5, -1]\n",
    "    ],\n",
    "    [\n",
    "        [10,2,0],\n",
    "        [1,0,2]\n",
    "    ],\n",
    "    [\n",
    "        [5,8,0],\n",
    "        [2,7,0]\n",
    "    ],\n",
    "    [\n",
    "        [2,1,9],\n",
    "        [4,-3,32]\n",
    "    ]\n",
    "])\n",
    "tensor_3d"
   ]
  },
  {
   "cell_type": "code",
   "execution_count": 4,
   "id": "7427a57a-9956-49c4-841f-aa6bb18c8399",
   "metadata": {},
   "outputs": [
    {
     "data": {
      "text/plain": [
       "<tf.Tensor: shape=(1, 4, 2, 3), dtype=int32, numpy=\n",
       "array([[[[ 1,  2,  0],\n",
       "         [ 3,  5, -1]],\n",
       "\n",
       "        [[10,  2,  0],\n",
       "         [ 1,  0,  2]],\n",
       "\n",
       "        [[ 5,  8,  0],\n",
       "         [ 2,  7,  0]],\n",
       "\n",
       "        [[ 2,  1,  9],\n",
       "         [ 4, -3, 32]]]], dtype=int32)>"
      ]
     },
     "execution_count": 4,
     "metadata": {},
     "output_type": "execute_result"
    }
   ],
   "source": [
    "tf.expand_dims(tensor_3d, axis=0)"
   ]
  },
  {
   "cell_type": "code",
   "execution_count": 9,
   "id": "5079c2b4-0d33-42b1-b526-d5b0691f8316",
   "metadata": {},
   "outputs": [
    {
     "name": "stdout",
     "output_type": "stream",
     "text": [
      "(4,)\n",
      "tf.Tensor([[1 2 3 4]], shape=(1, 4), dtype=int32)\n",
      "tf.Tensor(\n",
      "[[1]\n",
      " [2]\n",
      " [3]\n",
      " [4]], shape=(4, 1), dtype=int32)\n"
     ]
    }
   ],
   "source": [
    "print(tf.constant([1,2,3,4]).shape)\n",
    "print(tf.expand_dims([1,2,3,4], axis = 0))\n",
    "print(tf.expand_dims([1,2,3,4], axis = 1))\n"
   ]
  },
  {
   "cell_type": "markdown",
   "id": "421b3faa-4a29-4524-b66b-3cb56403ad22",
   "metadata": {},
   "source": [
    "### **squeeze**\n",
    "\n",
    "Removes dimensions of size 1 from the shape of a tensor\n",
    "\n",
    "https://www.tensorflow.org/api_docs/python/tf/squeeze\n",
    "```\n",
    "tf.squeeze(\n",
    "    input, axis=None, name=None\n",
    ")\n",
    "\n",
    "```"
   ]
  },
  {
   "cell_type": "code",
   "execution_count": 10,
   "id": "a412183d-c4c9-46ad-a03c-e3f80d3d2ab3",
   "metadata": {},
   "outputs": [
    {
     "name": "stdout",
     "output_type": "stream",
     "text": [
      "tf.Tensor([[[2 3 4 5]]], shape=(1, 1, 4), dtype=int32)\n"
     ]
    }
   ],
   "source": [
    "x = tf.constant([\n",
    "    [\n",
    "        [2,3,4,5]\n",
    "    ]\n",
    "])\n",
    "print(x)"
   ]
  },
  {
   "cell_type": "code",
   "execution_count": 11,
   "id": "507a7de0-4210-4297-8d5b-4001830300ca",
   "metadata": {},
   "outputs": [
    {
     "data": {
      "text/plain": [
       "<tf.Tensor: shape=(1, 4), dtype=int32, numpy=array([[2, 3, 4, 5]], dtype=int32)>"
      ]
     },
     "execution_count": 11,
     "metadata": {},
     "output_type": "execute_result"
    }
   ],
   "source": [
    "x_squeezed = tf.squeeze(x, axis = 0)\n",
    "x_squeezed"
   ]
  },
  {
   "cell_type": "code",
   "execution_count": 12,
   "id": "bb145f00-dc99-41ec-89c2-bcddfd0059cb",
   "metadata": {},
   "outputs": [],
   "source": [
    "tensor_3d = tf.constant([\n",
    "    [\n",
    "        [1,2,0],\n",
    "        [3, 5, -1]\n",
    "    ],\n",
    "    [\n",
    "        [10,2,0],\n",
    "        [1,0,2]\n",
    "    ],\n",
    "    [\n",
    "        [5,8,0],\n",
    "        [2,7,0]\n",
    "    ],\n",
    "    [\n",
    "        [2,1,9],\n",
    "        [4,-3,32]\n",
    "    ]\n",
    "])\n",
    "tensor_3d\n",
    "tensor_3d_expand = tf.expand_dims(tensor_3d, axis=3)"
   ]
  },
  {
   "cell_type": "code",
   "execution_count": 13,
   "id": "86598b8c-0103-43d1-a494-b3ade3c7bf4d",
   "metadata": {},
   "outputs": [
    {
     "data": {
      "text/plain": [
       "<tf.Tensor: shape=(4, 2, 3, 1), dtype=int32, numpy=\n",
       "array([[[[ 1],\n",
       "         [ 2],\n",
       "         [ 0]],\n",
       "\n",
       "        [[ 3],\n",
       "         [ 5],\n",
       "         [-1]]],\n",
       "\n",
       "\n",
       "       [[[10],\n",
       "         [ 2],\n",
       "         [ 0]],\n",
       "\n",
       "        [[ 1],\n",
       "         [ 0],\n",
       "         [ 2]]],\n",
       "\n",
       "\n",
       "       [[[ 5],\n",
       "         [ 8],\n",
       "         [ 0]],\n",
       "\n",
       "        [[ 2],\n",
       "         [ 7],\n",
       "         [ 0]]],\n",
       "\n",
       "\n",
       "       [[[ 2],\n",
       "         [ 1],\n",
       "         [ 9]],\n",
       "\n",
       "        [[ 4],\n",
       "         [-3],\n",
       "         [32]]]], dtype=int32)>"
      ]
     },
     "execution_count": 13,
     "metadata": {},
     "output_type": "execute_result"
    }
   ],
   "source": [
    "tensor_3d_expand"
   ]
  },
  {
   "cell_type": "code",
   "execution_count": 14,
   "id": "ae3d3af6-cd45-4a94-a798-d250ca068d28",
   "metadata": {},
   "outputs": [
    {
     "data": {
      "text/plain": [
       "<tf.Tensor: shape=(4, 2, 3), dtype=int32, numpy=\n",
       "array([[[ 1,  2,  0],\n",
       "        [ 3,  5, -1]],\n",
       "\n",
       "       [[10,  2,  0],\n",
       "        [ 1,  0,  2]],\n",
       "\n",
       "       [[ 5,  8,  0],\n",
       "        [ 2,  7,  0]],\n",
       "\n",
       "       [[ 2,  1,  9],\n",
       "        [ 4, -3, 32]]], dtype=int32)>"
      ]
     },
     "execution_count": 14,
     "metadata": {},
     "output_type": "execute_result"
    }
   ],
   "source": [
    "tensor_3d_squeeze = tf.squeeze(tensor_3d_expand, axis = 3)\n",
    "tensor_3d_squeeze"
   ]
  },
  {
   "cell_type": "markdown",
   "id": "a4e56bab-1a63-430e-8daf-e512a85becbe",
   "metadata": {},
   "source": [
    "### **reshape**\n",
    "\n",
    "Reshapes a tensor.\n",
    "\n",
    "https://www.tensorflow.org/api_docs/python/tf/reshape\n",
    "\n",
    "```\n",
    "tf.reshape(\n",
    "    tensor, shape, name=None\n",
    ")\n",
    "\n",
    "```"
   ]
  },
  {
   "cell_type": "code",
   "execution_count": 15,
   "id": "b445bcbe-e460-4617-a5b4-3f1deedcb511",
   "metadata": {},
   "outputs": [
    {
     "data": {
      "text/plain": [
       "<tf.Tensor: shape=(6, 4), dtype=int32, numpy=\n",
       "array([[ 1,  2,  0,  3],\n",
       "       [ 5, -1, 10,  2],\n",
       "       [ 0,  1,  0,  2],\n",
       "       [ 5,  8,  0,  2],\n",
       "       [ 7,  0,  2,  1],\n",
       "       [ 9,  4, -3, 32]], dtype=int32)>"
      ]
     },
     "execution_count": 15,
     "metadata": {},
     "output_type": "execute_result"
    }
   ],
   "source": [
    "tensor_2d = tf.reshape(tensor_3d, [6,4])\n",
    "tensor_2d"
   ]
  },
  {
   "cell_type": "code",
   "execution_count": 16,
   "id": "697f6591-2cd6-4eac-a845-41af04b5149b",
   "metadata": {},
   "outputs": [
    {
     "data": {
      "text/plain": [
       "<tf.Tensor: shape=(24,), dtype=int32, numpy=\n",
       "array([ 1,  2,  0,  3,  5, -1, 10,  2,  0,  1,  0,  2,  5,  8,  0,  2,  7,\n",
       "        0,  2,  1,  9,  4, -3, 32], dtype=int32)>"
      ]
     },
     "execution_count": 16,
     "metadata": {},
     "output_type": "execute_result"
    }
   ],
   "source": [
    "tensor_1d = tf.reshape(tensor_3d, 24)\n",
    "tensor_1d"
   ]
  },
  {
   "cell_type": "code",
   "execution_count": 17,
   "id": "6e085bd6-9cac-4bcc-a8f4-b269d27e8d21",
   "metadata": {},
   "outputs": [
    {
     "data": {
      "text/plain": [
       "<tf.Tensor: shape=(6, 4), dtype=int32, numpy=\n",
       "array([[ 1,  2,  0,  3],\n",
       "       [ 5, -1, 10,  2],\n",
       "       [ 0,  1,  0,  2],\n",
       "       [ 5,  8,  0,  2],\n",
       "       [ 7,  0,  2,  1],\n",
       "       [ 9,  4, -3, 32]], dtype=int32)>"
      ]
     },
     "execution_count": 17,
     "metadata": {},
     "output_type": "execute_result"
    }
   ],
   "source": [
    "# Using -1 in shape\n",
    "tensor_2d = tf.reshape(tensor_3d, [6,-1])\n",
    "tensor_2d"
   ]
  },
  {
   "cell_type": "markdown",
   "id": "5f588f30-33a8-4dbf-bfad-7e9f460d5a9c",
   "metadata": {},
   "source": [
    "### **concat**\n",
    "\n",
    "Concatenates tensors along one dimension.\n",
    "\n",
    "https://www.tensorflow.org/api_docs/python/tf/concat\n",
    "\n",
    "```\n",
    "tf.concat(\n",
    "    values, axis, name='concat'\n",
    ")\n",
    "\n",
    "```"
   ]
  },
  {
   "cell_type": "code",
   "execution_count": 24,
   "id": "968e3d41-5fdd-4c1d-a582-22493a8bed45",
   "metadata": {},
   "outputs": [],
   "source": [
    "t1 = [\n",
    "    [1, 2, 3], \n",
    "    [4, 5, 6]\n",
    "]\n",
    "t2 = [\n",
    "    [7, 8, 9], \n",
    "    [10, 11, 12]\n",
    "]\n",
    "tensor_concat = tf.concat([t1, t2], axis= 0)\n"
   ]
  },
  {
   "cell_type": "code",
   "execution_count": 25,
   "id": "0ec9a422-619c-4631-b7e2-19b5c2de442e",
   "metadata": {},
   "outputs": [
    {
     "data": {
      "text/plain": [
       "<tf.Tensor: shape=(4, 3), dtype=int32, numpy=\n",
       "array([[ 1,  2,  3],\n",
       "       [ 4,  5,  6],\n",
       "       [ 7,  8,  9],\n",
       "       [10, 11, 12]], dtype=int32)>"
      ]
     },
     "execution_count": 25,
     "metadata": {},
     "output_type": "execute_result"
    }
   ],
   "source": [
    "tensor_concat"
   ]
  },
  {
   "cell_type": "code",
   "execution_count": 26,
   "id": "55d508b1-d412-4dc2-8465-e9d642d0f097",
   "metadata": {},
   "outputs": [],
   "source": [
    "tensor_concat_axis1=  tf.concat([t1, t2], axis = 1)"
   ]
  },
  {
   "cell_type": "code",
   "execution_count": 27,
   "id": "6e8865b3-1294-4ecc-b4da-949c0e5d7a77",
   "metadata": {},
   "outputs": [
    {
     "data": {
      "text/plain": [
       "<tf.Tensor: shape=(2, 6), dtype=int32, numpy=\n",
       "array([[ 1,  2,  3,  7,  8,  9],\n",
       "       [ 4,  5,  6, 10, 11, 12]], dtype=int32)>"
      ]
     },
     "execution_count": 27,
     "metadata": {},
     "output_type": "execute_result"
    }
   ],
   "source": [
    "tensor_concat_axis1"
   ]
  },
  {
   "cell_type": "code",
   "execution_count": 28,
   "id": "5a7faa58-a935-43ee-ac98-7bd5a11eb94a",
   "metadata": {},
   "outputs": [
    {
     "data": {
      "text/plain": [
       "<tf.Tensor: shape=(4, 3), dtype=int32, numpy=\n",
       "array([[ 1,  2,  3],\n",
       "       [ 4,  5,  6],\n",
       "       [ 7,  8,  9],\n",
       "       [10, 11, 12]], dtype=int32)>"
      ]
     },
     "execution_count": 28,
     "metadata": {},
     "output_type": "execute_result"
    }
   ],
   "source": [
    "tensor_1 = tf.constant([\n",
    "    [1,2,3],\n",
    "    [4,5,6]\n",
    "])\n",
    "tensor_2 = tf.constant([\n",
    "    [7,8,9],\n",
    "    [10,11,12]\n",
    "])\n",
    "\n",
    "tensor_concat = tf.concat([tensor_1, tensor_2], axis = 0)\n",
    "tensor_concat"
   ]
  },
  {
   "cell_type": "code",
   "execution_count": 29,
   "id": "10dedb89-cba7-4044-abfd-2e7037903993",
   "metadata": {},
   "outputs": [
    {
     "data": {
      "text/plain": [
       "<tf.Tensor: shape=(2, 2, 3), dtype=int32, numpy=\n",
       "array([[[ 1,  2,  3],\n",
       "        [ 4,  5,  6]],\n",
       "\n",
       "       [[ 7,  8,  9],\n",
       "        [10, 11, 12]]], dtype=int32)>"
      ]
     },
     "execution_count": 29,
     "metadata": {},
     "output_type": "execute_result"
    }
   ],
   "source": [
    "tensor_3d_1 = tf.constant([[\n",
    "    [1,2,3],\n",
    "    [4,5,6]\n",
    "]])\n",
    "tensor_3d_2 = tf.constant([[\n",
    "    [7,8,9],\n",
    "    [10,11,12]\n",
    "]])\n",
    "\n",
    "tensor_concat_0 = tf.concat([tensor_3d_1, tensor_3d_2], axis = 0)\n",
    "tensor_concat_0"
   ]
  },
  {
   "cell_type": "code",
   "execution_count": 30,
   "id": "b01b222e-359d-4c41-be50-977ab295c9b7",
   "metadata": {},
   "outputs": [
    {
     "data": {
      "text/plain": [
       "<tf.Tensor: shape=(1, 4, 3), dtype=int32, numpy=\n",
       "array([[[ 1,  2,  3],\n",
       "        [ 4,  5,  6],\n",
       "        [ 7,  8,  9],\n",
       "        [10, 11, 12]]], dtype=int32)>"
      ]
     },
     "execution_count": 30,
     "metadata": {},
     "output_type": "execute_result"
    }
   ],
   "source": [
    "tensor_concat_1 = tf.concat([tensor_3d_1, tensor_3d_2], axis = 1)\n",
    "tensor_concat_1"
   ]
  },
  {
   "cell_type": "code",
   "execution_count": 31,
   "id": "4afccdda-d765-4a9f-8bae-bda3230c978d",
   "metadata": {},
   "outputs": [
    {
     "data": {
      "text/plain": [
       "<tf.Tensor: shape=(1, 2, 6), dtype=int32, numpy=\n",
       "array([[[ 1,  2,  3,  7,  8,  9],\n",
       "        [ 4,  5,  6, 10, 11, 12]]], dtype=int32)>"
      ]
     },
     "execution_count": 31,
     "metadata": {},
     "output_type": "execute_result"
    }
   ],
   "source": [
    "tensor_concat_2 = tf.concat([tensor_3d_1, tensor_3d_2], axis = 2)\n",
    "tensor_concat_2"
   ]
  },
  {
   "cell_type": "markdown",
   "id": "a2c3c90c-bc30-44c1-8f27-8946f292032a",
   "metadata": {},
   "source": [
    "### **stack**\n",
    "\n",
    "Stacks a list of rank-R tensors into one rank-(R+1) tensor.\n",
    "\n",
    "https://www.tensorflow.org/api_docs/python/tf/stack\n",
    "\n",
    "```\n",
    "tf.stack(\n",
    "    values, axis=0, name='stack'\n",
    ")\n",
    "\n",
    "```\n",
    "\n",
    "**tf.concat([tf.expand_dims(t, axis) for t in tensors], axis)**\n"
   ]
  },
  {
   "cell_type": "code",
   "execution_count": 33,
   "id": "91f05df1-1b45-439e-9f2a-fe7b1b5b681f",
   "metadata": {},
   "outputs": [
    {
     "name": "stdout",
     "output_type": "stream",
     "text": [
      "(1, 2, 3) (1, 2, 3)\n"
     ]
    },
    {
     "data": {
      "text/plain": [
       "<tf.Tensor: shape=(2, 1, 2, 3), dtype=int32, numpy=\n",
       "array([[[[ 1,  2,  3],\n",
       "         [ 4,  5,  6]]],\n",
       "\n",
       "\n",
       "       [[[ 7,  8,  9],\n",
       "         [10, 11, 12]]]], dtype=int32)>"
      ]
     },
     "execution_count": 33,
     "metadata": {},
     "output_type": "execute_result"
    }
   ],
   "source": [
    "tensor_3d_1 = tf.constant([[\n",
    "    [1,2,3],\n",
    "    [4,5,6]\n",
    "]])\n",
    "tensor_3d_2 = tf.constant([[\n",
    "    [7,8,9],\n",
    "    [10,11,12]\n",
    "]])\n",
    "\n",
    "print(tensor_3d_1.shape, tensor_3d_2.shape)\n",
    "tensor_stack_1 = tf.stack([tensor_3d_1, tensor_3d_2], axis = 0) # This stacks the number of tensors\n",
    "tensor_stack_1"
   ]
  },
  {
   "cell_type": "code",
   "execution_count": 34,
   "id": "a1b8aa72-6cf6-4da0-84d4-471cbf7783bd",
   "metadata": {},
   "outputs": [
    {
     "data": {
      "text/plain": [
       "<tf.Tensor: shape=(3, 1, 2, 3), dtype=int32, numpy=\n",
       "array([[[[ 1,  2,  3],\n",
       "         [ 4,  5,  6]]],\n",
       "\n",
       "\n",
       "       [[[ 7,  8,  9],\n",
       "         [10, 11, 12]]],\n",
       "\n",
       "\n",
       "       [[[13, 14, 15],\n",
       "         [16, 17, 18]]]], dtype=int32)>"
      ]
     },
     "execution_count": 34,
     "metadata": {},
     "output_type": "execute_result"
    }
   ],
   "source": [
    "tensor_3d_3 = tf.constant([[\n",
    "    [13,14,15],\n",
    "    [16,17,18]\n",
    "]])\n",
    "\n",
    "tensor_stack_2 = tf.stack([tensor_3d_1, tensor_3d_2, tensor_3d_3], axis = 0)\n",
    "tensor_stack_2"
   ]
  },
  {
   "cell_type": "code",
   "execution_count": 35,
   "id": "6e82d625-2790-4b15-9616-8aa6ae73face",
   "metadata": {},
   "outputs": [
    {
     "data": {
      "text/plain": [
       "<tf.Tensor: shape=(1, 2, 2, 3), dtype=int32, numpy=\n",
       "array([[[[ 1,  2,  3],\n",
       "         [ 4,  5,  6]],\n",
       "\n",
       "        [[ 7,  8,  9],\n",
       "         [10, 11, 12]]]], dtype=int32)>"
      ]
     },
     "execution_count": 35,
     "metadata": {},
     "output_type": "execute_result"
    }
   ],
   "source": [
    "tensor_stack_3 = tf.stack([tensor_3d_1, tensor_3d_2], axis = 1) # This stacks the number of tensors\n",
    "tensor_stack_3"
   ]
  },
  {
   "cell_type": "code",
   "execution_count": 38,
   "id": "2a4363db-5a60-41e7-a450-a085c1ac8dde",
   "metadata": {},
   "outputs": [
    {
     "data": {
      "text/plain": [
       "<tf.Tensor: shape=(1, 2, 2, 3), dtype=int32, numpy=\n",
       "array([[[[ 1,  2,  3],\n",
       "         [ 7,  8,  9]],\n",
       "\n",
       "        [[ 4,  5,  6],\n",
       "         [10, 11, 12]]]], dtype=int32)>"
      ]
     },
     "execution_count": 38,
     "metadata": {},
     "output_type": "execute_result"
    }
   ],
   "source": [
    "tensor_stack_4 = tf.stack([tensor_3d_1, tensor_3d_2], axis = 2) # This stacks the number of tensors\n",
    "tensor_stack_4"
   ]
  },
  {
   "cell_type": "code",
   "execution_count": 39,
   "id": "3c25d6a1-e75f-4de6-8d59-1c5b027e5774",
   "metadata": {},
   "outputs": [
    {
     "data": {
      "text/plain": [
       "<tf.Tensor: shape=(1, 2, 3, 2), dtype=int32, numpy=\n",
       "array([[[[ 1,  7],\n",
       "         [ 2,  8],\n",
       "         [ 3,  9]],\n",
       "\n",
       "        [[ 4, 10],\n",
       "         [ 5, 11],\n",
       "         [ 6, 12]]]], dtype=int32)>"
      ]
     },
     "execution_count": 39,
     "metadata": {},
     "output_type": "execute_result"
    }
   ],
   "source": [
    "tensor_stack_5 = tf.stack([tensor_3d_1, tensor_3d_2], axis = 3) # This stacks the number of tensors\n",
    "tensor_stack_5"
   ]
  },
  {
   "cell_type": "code",
   "execution_count": 42,
   "id": "642a9dab-0654-4d04-911c-a6819f733dc5",
   "metadata": {},
   "outputs": [
    {
     "data": {
      "text/plain": [
       "<tf.Tensor: shape=(2, 1, 2, 3), dtype=int32, numpy=\n",
       "array([[[[ 1,  2,  3],\n",
       "         [ 4,  5,  6]]],\n",
       "\n",
       "\n",
       "       [[[ 7,  8,  9],\n",
       "         [10, 11, 12]]]], dtype=int32)>"
      ]
     },
     "execution_count": 42,
     "metadata": {},
     "output_type": "execute_result"
    }
   ],
   "source": [
    "tensor_concat_expand_1 = tf.concat([tf.expand_dims(t, axis = 0) for t in [tensor_3d_1, tensor_3d_2]], axis = 0)\n",
    "tensor_concat_expand_1"
   ]
  },
  {
   "cell_type": "markdown",
   "id": "e479ba04-548f-4a83-8d1d-570668596b34",
   "metadata": {},
   "source": [
    "#### **Expand and concat**\n",
    "\n",
    "Expand will expand axis by 1 axis, in above example (1,2,3) is expanded to (1,1,2,3). \\\n",
    "Then it will be concatenated (1,1,2,3) + (1,1,2,3) -> (2,1,2,3)"
   ]
  },
  {
   "cell_type": "markdown",
   "id": "484aa99c-46a8-4e8f-b3e9-21d8c02c18fb",
   "metadata": {},
   "source": [
    "### **padding**\n",
    "\n",
    "Pads a tensor.\\\n",
    "https://www.tensorflow.org/api_docs/python/tf/pad\n",
    "\n",
    "```\n",
    "tf.pad(\n",
    "    tensor, paddings, mode='CONSTANT', constant_values=0, name=None\n",
    ")\n",
    "\n",
    "```\n",
    "\n",
    "#### Padding \n",
    "[[1,1],  ----> One Row above and One Row below \\\n",
    "[2,2]]   ----> Two Rows left and Two Rows right"
   ]
  },
  {
   "cell_type": "code",
   "execution_count": 54,
   "id": "aebb1b96-6b65-4b7f-a53a-4dee9f124b11",
   "metadata": {},
   "outputs": [],
   "source": [
    "t = tf.constant([[1, 2, 3], [4, 5, 6]])\n",
    "paddings = tf.constant([[1, 1,], [2, 2]])\n",
    "# 'constant_values' is 0.\n",
    "# rank of 't' is 2.\n"
   ]
  },
  {
   "cell_type": "code",
   "execution_count": 50,
   "id": "41ebf85f-16fc-4a8a-8703-ef05c27f694e",
   "metadata": {},
   "outputs": [
    {
     "data": {
      "text/plain": [
       "<tf.Tensor: shape=(4, 7), dtype=int32, numpy=\n",
       "array([[8, 8, 8, 8, 8, 8, 8],\n",
       "       [8, 8, 1, 2, 3, 8, 8],\n",
       "       [8, 8, 4, 5, 6, 8, 8],\n",
       "       [8, 8, 8, 8, 8, 8, 8]], dtype=int32)>"
      ]
     },
     "execution_count": 50,
     "metadata": {},
     "output_type": "execute_result"
    }
   ],
   "source": [
    "tf.pad(t, paddings, \"CONSTANT\", constant_values = 8)"
   ]
  },
  {
   "cell_type": "code",
   "execution_count": 51,
   "id": "60a7a0dc-6cac-4dc9-85c5-54c427b66cc9",
   "metadata": {},
   "outputs": [
    {
     "data": {
      "text/plain": [
       "<tf.Tensor: shape=(4, 7), dtype=int32, numpy=\n",
       "array([[0, 0, 0, 0, 0, 0, 0],\n",
       "       [0, 0, 1, 2, 3, 0, 0],\n",
       "       [0, 0, 4, 5, 6, 0, 0],\n",
       "       [0, 0, 0, 0, 0, 0, 0]], dtype=int32)>"
      ]
     },
     "execution_count": 51,
     "metadata": {},
     "output_type": "execute_result"
    }
   ],
   "source": [
    "tf.pad(t, paddings, \"CONSTANT\")  # [[0, 0, 0, 0, 0, 0, 0],\n",
    "                                 #  [0, 0, 1, 2, 3, 0, 0],\n",
    "                                 #  [0, 0, 4, 5, 6, 0, 0],\n",
    "                                 #  [0, 0, 0, 0, 0, 0, 0]]"
   ]
  },
  {
   "cell_type": "code",
   "execution_count": 52,
   "id": "955fc0f9-8eb3-456e-9544-6c89a86a74d2",
   "metadata": {},
   "outputs": [
    {
     "data": {
      "text/plain": [
       "<tf.Tensor: shape=(4, 7), dtype=int32, numpy=\n",
       "array([[6, 5, 4, 5, 6, 5, 4],\n",
       "       [3, 2, 1, 2, 3, 2, 1],\n",
       "       [6, 5, 4, 5, 6, 5, 4],\n",
       "       [3, 2, 1, 2, 3, 2, 1]], dtype=int32)>"
      ]
     },
     "execution_count": 52,
     "metadata": {},
     "output_type": "execute_result"
    }
   ],
   "source": [
    "tf.pad(t, paddings, \"REFLECT\")  # [[6, 5, 4, 5, 6, 5, 4],\n",
    "                                #  [3, 2, 1, 2, 3, 2, 1],\n",
    "                                #  [6, 5, 4, 5, 6, 5, 4],\n",
    "                                #  [3, 2, 1, 2, 3, 2, 1]]"
   ]
  },
  {
   "cell_type": "code",
   "execution_count": 53,
   "id": "86ae1b34-af4f-47df-b359-c75da7ac78b8",
   "metadata": {},
   "outputs": [
    {
     "data": {
      "text/plain": [
       "<tf.Tensor: shape=(4, 7), dtype=int32, numpy=\n",
       "array([[2, 1, 1, 2, 3, 3, 2],\n",
       "       [2, 1, 1, 2, 3, 3, 2],\n",
       "       [5, 4, 4, 5, 6, 6, 5],\n",
       "       [5, 4, 4, 5, 6, 6, 5]], dtype=int32)>"
      ]
     },
     "execution_count": 53,
     "metadata": {},
     "output_type": "execute_result"
    }
   ],
   "source": [
    "tf.pad(t, paddings, \"SYMMETRIC\")  # [[2, 1, 1, 2, 3, 3, 2],\n",
    "                                  #  [2, 1, 1, 2, 3, 3, 2],\n",
    "                                  #  [5, 4, 4, 5, 6, 6, 5],\n",
    "                                  #  [5, 4, 4, 5, 6, 6, 5]]"
   ]
  },
  {
   "cell_type": "code",
   "execution_count": null,
   "id": "2641e0df-4d21-4bb2-b503-451b79d0c787",
   "metadata": {},
   "outputs": [],
   "source": []
  },
  {
   "cell_type": "code",
   "execution_count": null,
   "id": "3f3ca32d-c362-415d-95ef-33a5aec45a8d",
   "metadata": {},
   "outputs": [],
   "source": []
  }
 ],
 "metadata": {
  "kernelspec": {
   "display_name": "Python 3 (ipykernel)",
   "language": "python",
   "name": "python3"
  },
  "language_info": {
   "codemirror_mode": {
    "name": "ipython",
    "version": 3
   },
   "file_extension": ".py",
   "mimetype": "text/x-python",
   "name": "python",
   "nbconvert_exporter": "python",
   "pygments_lexer": "ipython3",
   "version": "3.11.0rc1"
  }
 },
 "nbformat": 4,
 "nbformat_minor": 5
}
